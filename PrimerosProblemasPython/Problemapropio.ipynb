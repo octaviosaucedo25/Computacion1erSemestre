{
 "cells": [
  {
   "cell_type": "markdown",
   "metadata": {},
   "source": [
    "# INTRODUCCIÓN A PYTHON\n",
    "\n",
    "Sergio A. Alcalá Corona <br>\n",
    "Sergio A. Sánchez Chávez\n",
    "\n",
    "---\n",
    "---"
   ]
  },
  {
   "cell_type": "markdown",
   "metadata": {},
   "source": [
    "Octavio Saucedo Avila"
   ]
  },
  {
   "cell_type": "markdown",
   "metadata": {},
   "source": [
    "# Algorítmos Computacionales\n",
    "\n",
    "## Potencia de un número complejo\n",
    "\n",
    "A continuación se expone la resolución del problema que yo mismo propuse:\n",
    "\n",
    "Escribir un algortimo que calcule la n-ésima potencia de un número complejo de la forma $z=(r,\\theta)$. Utilizar el Teorema de Moivre:\n",
    "$$z^{n}=r^{n}[cos(n\\theta)+isen(n\\theta)] \\ ;n \\geq 2, n \\in \\mathbb{N}$$\n",
    "---\n",
    "**Indicaciones**:\n",
    "1. Introducir el valor del módulo de z, es decir, el valor de $r \\in \\mathbb{R}$.\n",
    "2. Introducir el valor del ángulo de z escrito en grados sexagesimales, es decir, $\\theta \\in \\mathbb{R}$.\n",
    "3. Introducir el valor de la potencia a la cual se quiere elevar el número complejo $z=(r,\\theta)$.\n",
    "\n",
    "Nótese que la interpretación total de la gráfica tanto de $z$ como de $z^{n}$ depende del valor y signo que le demos al ángulo $\\theta$.\n",
    "\n",
    "**Algoritmo y ejemplo:**"
   ]
  },
  {
   "cell_type": "code",
   "execution_count": 2,
   "metadata": {},
   "outputs": [],
   "source": [
    "from numpy import *\n",
    "from scipy import *\n",
    "import math\n",
    "import numpy as np"
   ]
  },
  {
   "cell_type": "code",
   "execution_count": 3,
   "metadata": {},
   "outputs": [
    {
     "name": "stdin",
     "output_type": "stream",
     "text": [
      "Introduce el valor del módulo de z:  4\n",
      "Introduce el valor del ángulo de z en grados:  56\n",
      "¿A qué potencia será elevado z?:  3\n"
     ]
    },
    {
     "name": "stdout",
     "output_type": "stream",
     "text": [
      "El número complejo (4.0, 56.0) elevado a la potencia 3 es igual a (-62.5984+13.3056j)\n"
     ]
    }
   ],
   "source": [
    "r = float(input('Introduce el valor del módulo de z: '))\n",
    "t = float(input('Introduce el valor del ángulo de z en grados: '))\n",
    "t2 = math.radians(t)\n",
    "n = int(input('¿A qué potencia será elevado z?: '))\n",
    "z = (r,t)\n",
    "i = 0 + 1j\n",
    "potenciadez = math.pow(r,n)*(np.round(math.cos(n*t2), decimals = 4) + i*np.round(math.sin(n*t2), decimals = 4))\n",
    "\n",
    "print(\"El número complejo\",z,\"elevado a la potencia\",n,\"es igual a\",potenciadez)"
   ]
  },
  {
   "cell_type": "code",
   "execution_count": null,
   "metadata": {},
   "outputs": [],
   "source": []
  }
 ],
 "metadata": {
  "kernelspec": {
   "display_name": "Python 3",
   "language": "python",
   "name": "python3"
  },
  "language_info": {
   "codemirror_mode": {
    "name": "ipython",
    "version": 3
   },
   "file_extension": ".py",
   "mimetype": "text/x-python",
   "name": "python",
   "nbconvert_exporter": "python",
   "pygments_lexer": "ipython3",
   "version": "3.8.3"
  }
 },
 "nbformat": 4,
 "nbformat_minor": 4
}
