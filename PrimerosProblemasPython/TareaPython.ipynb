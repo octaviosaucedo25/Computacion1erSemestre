{
 "cells": [
  {
   "cell_type": "markdown",
   "metadata": {},
   "source": [
    "$ 1. $"
   ]
  },
  {
   "cell_type": "markdown",
   "metadata": {},
   "source": [
    "$ (a) $\n",
    "$ \\text{Calcular el promedio de dos números introducidos por el usuario}  $"
   ]
  },
  {
   "cell_type": "markdown",
   "metadata": {},
   "source": [
    "$ \\text{Primero vamos a importar la biblioteca numpy para poder hacer uso de las funciones que nos ofrece} $"
   ]
  },
  {
   "cell_type": "code",
   "execution_count": 2,
   "metadata": {},
   "outputs": [],
   "source": [
    "import numpy as np\n",
    "import math\n",
    "import cmath"
   ]
  },
  {
   "cell_type": "code",
   "execution_count": 2,
   "metadata": {},
   "outputs": [
    {
     "name": "stdin",
     "output_type": "stream",
     "text": [
      "Introduzca un número:  1\n",
      "Introduzca un segundo número:  2\n"
     ]
    }
   ],
   "source": [
    "a = float(input(\"Introduzca un número: \")) # Estamos pidiendo al usuario que intriduzca un número. Con el float no restringimos el tipo de valores que se pueden introducir.\n",
    "b = float(input(\"Introduzca un segundo número: \")) # Hacemos lo mismo que con a"
   ]
  },
  {
   "cell_type": "code",
   "execution_count": 4,
   "metadata": {},
   "outputs": [
    {
     "name": "stdout",
     "output_type": "stream",
     "text": [
      "El promedio de los números que introdujo es: 1.5\n"
     ]
    }
   ],
   "source": [
    "def prom(x, y): # Definimos una función para calcular el promedio de dos números\n",
    "    z = (x+y)/2\n",
    "    return z\n",
    "\n",
    "print(\"El promedio de los números que introdujo es: \" + str(prom(a, b))) # Calculamos el promedio y lo imprimimos.\n",
    "# Para poder concatenar el string \"el promedio...\" y el resultado del promedio, tuvimos que convertir el valor del\n",
    "# promedio en un str, perimitiéndonos ser más accesibles al usuario sin la necesidad de usar muchas líneas."
   ]
  },
  {
   "cell_type": "markdown",
   "metadata": {},
   "source": [
    "$ \\text{(b) Calcular la suma desde 0 hasta un número n introducido por el usuario} $\n",
    "$ \\displaystyle{\\sum_{i=0}^{n} i} $"
   ]
  },
  {
   "cell_type": "markdown",
   "metadata": {},
   "source": [
    "$ \\text{Sabemos que la suma de los primeros n números está dada por la fórmula: } $\n",
    "$ \\displaystyle{\\sum_{i=0}^{n} i = \\frac{n(n+1)}{2}} $"
   ]
  },
  {
   "cell_type": "markdown",
   "metadata": {},
   "source": [
    "$ \\text{Entonces, para calcularlo, vamos a pedir un número del usuario y luego vamos a definir una función: } $"
   ]
  },
  {
   "cell_type": "code",
   "execution_count": 5,
   "metadata": {},
   "outputs": [
    {
     "name": "stdin",
     "output_type": "stream",
     "text": [
      "Favor de introducir un número entero:  100\n"
     ]
    },
    {
     "name": "stdout",
     "output_type": "stream",
     "text": [
      "La suma desde cero hasta el número que introdujo es: 5050.0\n"
     ]
    }
   ],
   "source": [
    "n = int(input(\"Favor de introducir un número entero: \")) # Estamos usando la función int para que el programa lo trate como un entero y no un string.\n",
    "def suma(m):\n",
    "    sigma = (m*(m + 1))/2 # Ahora estamos escribiendo la fórmula antes mencionada, así nos facilitamos el cálculo y el código es más limpio.\n",
    "    return sigma\n",
    "print(\"La suma desde cero hasta el número que introdujo es: \" + str(suma(n))) # Hacemos del resultado un string para poder concatenarlo a una respuesta amable con el usuario."
   ]
  },
  {
   "cell_type": "markdown",
   "metadata": {},
   "source": [
    "$ \\text{(c) Calcular el factorial de un número introducido por el usuario} $"
   ]
  },
  {
   "cell_type": "markdown",
   "metadata": {},
   "source": [
    "$ \\text{Sabemos que el factorial de un número entero positivo está definido como: } $\n",
    "$ \\displaystyle{n! = (1)(2)...(n)}  $"
   ]
  },
  {
   "cell_type": "markdown",
   "metadata": {},
   "source": [
    "$ \\text{Aunque, para ahorrarnos algo de trabajo, podríamos usar la función factorial de numpy. Así que, lo haremos de forma \"manual\" y también con la función de numpy} $"
   ]
  },
  {
   "cell_type": "markdown",
   "metadata": {},
   "source": [
    "$ \\text{Manual: } $"
   ]
  },
  {
   "cell_type": "code",
   "execution_count": 6,
   "metadata": {},
   "outputs": [],
   "source": [
    "def fact(r):\n",
    "    x = 1 # Queremos empezar en 1, de manera que podamos avanzar hasta n.\n",
    "    for i in range(1, r+1): # definimos el rango así para que empiece en 1 y termine en el número dado.\n",
    "        x = x*i # Lo que queremos hacer es que por cada número desde 1 hasta el número dado, se vaya multiplicando una cantidad x que \"se guarda\" y se multiplica por el siguiente número en la siguiente vuelta.\n",
    "    return x"
   ]
  },
  {
   "cell_type": "code",
   "execution_count": null,
   "metadata": {},
   "outputs": [],
   "source": [
    "r = int(input(\"Introduzca un número entero: \")) # Estamos usando la función int para que el programa lo trate como un entero y no un string.\n",
    "\n",
    "while True:\n",
    "    if r < 0:\n",
    "        print(\"Lo siento, el factorial de \" + str(r) + \" no existe\") # definimos el caso de que se introduzca un número negativo\n",
    "        r = int(input(\"Introduzca un número entero: \"))\n",
    "    elif r == 0:\n",
    "        print(\"El factorial de 0 es 1\") # ya que nuestra función arrojaría cero en eset caso, tenemos que definir que 0! = 1.\n",
    "        break\n",
    "    else:\n",
    "        print(\"El factorial de \" + str(r) + \" es \" + str(fact(r))) # esto es para el caso en que el número dado sea mayor o igual a 1.\n",
    "        break"
   ]
  },
  {
   "cell_type": "markdown",
   "metadata": {},
   "source": [
    "$ \\text{Con numpy: } $"
   ]
  },
  {
   "cell_type": "code",
   "execution_count": null,
   "metadata": {},
   "outputs": [],
   "source": [
    "r = int(input(\"Introduzca un número entero: \")) # Estamos usando la función int para que el programa lo trate como un entero y no un string.\n",
    "\n",
    "while True:\n",
    "    if r < 0:\n",
    "        print(\"Lo siento, el factorial de \" + str(r) + \" no existe\") # definimos el caso de que se introduzca un número negativo\n",
    "        r = int(input(\"Introduzca un número entero: \"))\n",
    "    else:\n",
    "        print(\"El factorial de \" + str(r) + \" es \" + str(np.math.factorial(r))) # esto es para el caso en que el número dado sea mayor o igual a 1.\n",
    "        break"
   ]
  },
  {
   "cell_type": "markdown",
   "metadata": {},
   "source": [
    "$ \\text{(d) Calcular la potencia de un número a la potencia de un número b} $"
   ]
  },
  {
   "cell_type": "code",
   "execution_count": 8,
   "metadata": {},
   "outputs": [
    {
     "name": "stdin",
     "output_type": "stream",
     "text": [
      "Favor de introducir un número:  5\n",
      "Introducir el número al cual va a ser elevado el anterior 2\n"
     ]
    },
    {
     "name": "stdout",
     "output_type": "stream",
     "text": [
      "a^b = 25.0\n"
     ]
    }
   ],
   "source": [
    "def potencia(a, b):\n",
    "    y = a ** b\n",
    "    return y\n",
    "\n",
    "A = float(input(\"Favor de introducir un número: \"))\n",
    "B = float(input(\"Introducir el número al cual va a ser elevado el anterior\"))\n",
    "\n",
    "print(\"a^b = \" + str(potencia(A, B)))"
   ]
  },
  {
   "cell_type": "markdown",
   "metadata": {},
   "source": [
    "$ \\text{2. Calcular las combinaciones de n en k: } $\n",
    "$ \\displaystyle{n\\choose k} $"
   ]
  },
  {
   "cell_type": "markdown",
   "metadata": {},
   "source": [
    "$ \\text{Sabemos que las combinaciones de n en k está dada por la fórmula: } $\n",
    "$ \\displaystyle{{n\\choose k} = \\frac{n!}{k!(n-k)!}} $"
   ]
  },
  {
   "cell_type": "markdown",
   "metadata": {},
   "source": [
    "$ \\text{Entonces, definiremos una función para que nos ayude a calcular la fórmula: } $"
   ]
  },
  {
   "cell_type": "code",
   "execution_count": 6,
   "metadata": {},
   "outputs": [],
   "source": [
    "def comb(f, s):\n",
    "    def fact(r): # Reescribios la función para factoriales antes definida, ya que se pueden experimentar problemas en el notebook.\n",
    "        x = 1\n",
    "        for i in range(1, r+1):\n",
    "            x = x*i\n",
    "        return x\n",
    "    c = (fact(f))/((fact(s)) * (fact(f - s))) # estamos escribiendo la fórmula de arriba en una función definida.\n",
    "    return c"
   ]
  },
  {
   "cell_type": "code",
   "execution_count": 7,
   "metadata": {},
   "outputs": [
    {
     "name": "stdin",
     "output_type": "stream",
     "text": [
      "Por favor introducir un número n:  100\n",
      "Por favor introducir un número k:  5\n"
     ]
    },
    {
     "name": "stdout",
     "output_type": "stream",
     "text": [
      "Las combinaciones de n en k son: 75287520.0\n"
     ]
    }
   ],
   "source": [
    "n = int(input(\"Por favor introducir un número n: \")) # Le estamos pidiendo al usuario que introduzca un número \"n\"\n",
    "k = int(input(\"Por favor introducir un número k: \")) # Ahora le pedimos al usuario que introduzca un número \"k\"\n",
    "\n",
    "while True: # Usamos un while loop para los casos en los que los valores introducidos por el usuario sean inválidos y así se vuelvan a pedir los valores, hasta que resulten válidos.\n",
    "    if n < 0 or k < 0:\n",
    "        print(\"Las combinaciones para número negativos no existen\")\n",
    "        n = int(input(\"Por favor introducir un número n: \"))\n",
    "        k = int(input(\"Por favor introducir un número k: \"))\n",
    "    elif n < k:\n",
    "        print(\"Lo siento, n tiene que ser mayor a k\")\n",
    "        n = int(input(\"Por favor introducir un número n: \"))\n",
    "        k = int(input(\"Por favor introducir un número k: \"))\n",
    "    else:\n",
    "        print(\"Las combinaciones de n en k son: \" + str(comb(n, k)))\n",
    "        break"
   ]
  },
  {
   "cell_type": "markdown",
   "metadata": {},
   "source": [
    "$ \\text{3. Tomando en cuenta la siguiente sucesión:} $\n",
    "$ \\displaystyle{\\sum_{n=0}^{\\infty} \\frac{(-1)^n}{2n+1} = \\frac{\\pi}{4}, } $"
   ]
  },
  {
   "cell_type": "markdown",
   "metadata": {},
   "source": [
    "$ \\text{calcula el valor de pi.} $"
   ]
  },
  {
   "cell_type": "code",
   "execution_count": 4,
   "metadata": {},
   "outputs": [
    {
     "name": "stdout",
     "output_type": "stream",
     "text": [
      "Para n=10, la aproximación para pi es: 3.232315809405594\n",
      "\n",
      "Para n=100, la aproximación para pi es: 3.1514934010709914\n",
      "\n",
      "Para n=1000, la aproximación para pi es: 3.1425916543395442\n",
      "\n",
      "Para n=10000, la aproximación para pi es: 3.1416926435905346\n",
      "\n",
      "Para n=100000, la aproximación para pi es: 3.1416026534897203\n"
     ]
    }
   ],
   "source": [
    "def calpi(n): # Empezaremos por definir una función para poder ejecutar la sucesión:\n",
    "    z = 0\n",
    "    for i in range(0, n+1): # Lo que queremos lograr con este loop es que la z vaya aumentando su valor con cada vuelta, por eso empezamos en 0 y le aumentamos el siguiente elemento de la sucesión con cada vuelta al loop.\n",
    "        z = z + ((-1) ** i)/(2 * i + 1) \n",
    "    return z\n",
    "\n",
    "\n",
    "npi1 = 10 # Definimos diferentes valores de n para usar en la sucesión:\n",
    "npi2 = 100\n",
    "npi3 = 1000\n",
    "npi4 = 10000\n",
    "npi5 = 100000\n",
    "\n",
    "\n",
    "print(\"Para n=10, la aproximación para pi es: \",end=\"\")\n",
    "print(4 * calpi(npi1)) # Lo único que falta para que nuestro cálculo esté completo es multiplicar el resultado que arroja la función calpi por 4.\n",
    "\n",
    "print()\n",
    "\n",
    "print(\"Para n=100, la aproximación para pi es: \",end=\"\")\n",
    "print(4 * calpi(npi2))\n",
    "\n",
    "print()\n",
    "\n",
    "print(\"Para n=1000, la aproximación para pi es: \",end=\"\")\n",
    "print(4 * calpi(npi3))\n",
    "\n",
    "print()\n",
    "\n",
    "print(\"Para n=10000, la aproximación para pi es: \",end=\"\")\n",
    "print(4 * calpi(npi4))\n",
    "\n",
    "print()\n",
    "\n",
    "print(\"Para n=100000, la aproximación para pi es: \",end=\"\")\n",
    "print(4 * calpi(npi5))"
   ]
  },
  {
   "cell_type": "markdown",
   "metadata": {},
   "source": [
    "$ \\text{4. Siguiendo la siguiente serie: } $\n",
    "$ \\displaystyle{\\sum_{n=0}^{\\infty} \\frac{1}{n!} = e ,} $"
   ]
  },
  {
   "cell_type": "markdown",
   "metadata": {},
   "source": [
    "$ \\text{escribe un programa que calcule diferentes aproximaciones de e.} $"
   ]
  },
  {
   "cell_type": "code",
   "execution_count": null,
   "metadata": {},
   "outputs": [],
   "source": [
    "def cale(n):\n",
    "    def fact(r): # Reescribios la función para factoriales antes definida, ya que se pueden experimentar problemas en el notebook.\n",
    "        x = 1\n",
    "        for i in range(1, r+1):\n",
    "            x = x*i\n",
    "        return x\n",
    "    \n",
    "    y = 0\n",
    "    for i in range(n+1):\n",
    "        y = y + 1/fact(i)\n",
    "    return float(y)\n",
    "\n",
    "\n",
    "ne1 = 10 # Definimos diferentes valores de n para usar en la sucesión:\n",
    "ne2 = 100\n",
    "ne3 = 1000\n",
    "ne4 = 10000\n",
    "ne5 = 100000\n",
    "\n",
    "# Imprimimos los aproximaciones de e dependiendo de las n antes definidas, al igual que con las aproximaciones para pi:\n",
    "print(\"Para n=10, la aproximación para e es: \" ,end=\"\") # La parte d end=\"\", es para que el resultado salga al lado de la frase que se va a imprimir.\n",
    "print(cale(ne1)) \n",
    "\n",
    "print()\n",
    "\n",
    "print(\"Para n=100, la aproximación para e es: \",end=\"\")\n",
    "print(cale(ne2))\n",
    "\n",
    "print()\n",
    "\n",
    "print(\"Para n=1000, la aproximación para e es: \",end=\"\")\n",
    "print(cale(ne3))\n",
    "\n",
    "print()\n",
    "\n",
    "print(\"Para n=10000, la aproximación para e es: \",end=\"\") # A partir de aquí, puede haber problemas con la memoria de la computadora\n",
    "print(float(cale(ne4)))\n",
    "\n",
    "print()\n",
    "\n",
    "print(\"Para n=100000, la aproximación para e es: \",end=\"\")\n",
    "print(float(cale(ne5)))"
   ]
  },
  {
   "cell_type": "markdown",
   "metadata": {},
   "source": [
    "$ \\text{5. Calcular las raíces de un polinomio cuadrático de una variable real, pidiéndole al usuario los coeficientes del polinomio:} $"
   ]
  },
  {
   "cell_type": "markdown",
   "metadata": {},
   "source": [
    "$ \\text{Sabemos que en un polinomio del tipo } ax^2+bx+c=0 \\text{ , las raíces están dadas por: }\n",
    "\\displaystyle{x = \\frac{-b \\pm \\sqrt{b^2 - 4ac}}{2a} }$"
   ]
  },
  {
   "cell_type": "markdown",
   "metadata": {},
   "source": [
    "$ \\text{Entonces, definiremos condiciones para cada uno de los posibles casos.} $"
   ]
  },
  {
   "cell_type": "code",
   "execution_count": null,
   "metadata": {},
   "outputs": [],
   "source": [
    "# Le pedimos al usuario los coeficientes del polinomio en una sola línea, haciendo una lista que contenga las tres variables y usando el método split de la función input:\n",
    "a, b, c = [float(x) for x in input(\"Ingrese el valor de los coeficientes del polinomio ax^2 + bx + c = 0, separados por un espacio: \").split()]\n",
    "\n",
    "\n",
    "if (b ** 2) - (4 * a * c) < 0: # Para el caso en el que no haya solución en los reales, debemos de resolver en los complejos:\n",
    "    R1 = complex(-b / (2 * a), math.sqrt((b ** 2) + (4 * a * c))) / (2 * a) # Usamos la función complex para mandar a los valores como las partes de un número complejo.\n",
    "    R2 = complex(-g / (2 * a), -math.sqrt(((b ** 2) + (4 * a * c))) / (2 * a))\n",
    "    \n",
    "    print(\"Las raíces del polinomio son: \",end=\"\") # el parámetro end= nos ayuda a que la impresión sea más limpia, adjuntando esta línea con la siguiente con lo que se encuentre entre comillas de por medio.\n",
    "    print(R1, end=\", \")\n",
    "    print(R2, end=\", \")\n",
    "    print(\"donde j es la unidad imaginaria\")\n",
    "    \n",
    "elif (b ** 2) - (4 * a * c) == 0: # Para el caso en el que solo haya una solución:\n",
    "    R = -b / (2 * a)\n",
    "    if R == -0.0: # Para que la imrpesión sea más limpia, sustituimos la impresión de -0 por 0.\n",
    "        print(\"La raíz única del polinomio es: 0\")\n",
    "    else:\n",
    "        print(\"La raíz única del polinomio es: \",end=\"\")\n",
    "        print(R)\n",
    "    \n",
    "else: # Para el caso en el que haya dos raíces reales:\n",
    "    R1 = (-b + math.sqrt((b ** 2) - (4 * a * c))) / (2 * a)\n",
    "    R2 = (-b - math.sqrt((b ** 2) - (4 * a * c))) / (2 * a)\n",
    "    print(\"Las raíces del polinomio son: \",end=\"\")\n",
    "    print(R1, end=\", \")\n",
    "    print(R2)\n",
    "    \n"
   ]
  },
  {
   "cell_type": "markdown",
   "metadata": {},
   "source": [
    "$ \\text{6. Escribe un programa para calcular el porducto cruz de dos vectores en } \\mathbb{R}^3, \\text{pidiéndole al usuario las entradas de los vectores.} $ "
   ]
  },
  {
   "cell_type": "code",
   "execution_count": null,
   "metadata": {},
   "outputs": [],
   "source": [
    "def producto_escalar(a, x): # Primer vamos a definir una función para que nos regrese el valor de un producto escalar\n",
    "    if type(x) == tuple: # Verificamos si x es en efecto, una tupla.\n",
    "        x1, x2, x3 = x # Lo que hacemos aquí es desempacar la tupla x para asignar valores a x1, x2 y x3\n",
    "    ax = (a*x1, a*x2, a*x3)\n",
    "    return ax\n",
    "\n",
    "def suma_vectores(x, y, z): # Definimos la suma de vectores para vectores en R3:\n",
    "    if type(x) == tuple:\n",
    "        x1, x2, x3 = x\n",
    "    if type(y) == tuple:\n",
    "        y1, y2, y3 = y\n",
    "    if type(z) == tuple:\n",
    "        z1, z2, z3 = z\n",
    "    sumxy = (x1+y1+z1, x2+y2+z2, x3+y3+z3)\n",
    "    return sumxy\n",
    "\n",
    "def vector_menos(x): # Definimos lo que sería -1 por un vector \n",
    "    if type(x) == tuple: \n",
    "        x1, x2, x3 = x\n",
    "    menosx = (-x1, -x2, -x3)\n",
    "    return menosx\n",
    "\n",
    "#def det(A):\n",
    "#    x = A[0][0] * ((A[1][1]*A[2][2])-(A[1][2]*A[2][1]))\n",
    "#    y = A[0][1] * ((A[1][0]*A[2][2])-(A[1][2]*A[2][0]))\n",
    "#    z = A[0][2] * ((A[1][0]*A[2][1])-(A[1][1]*A[2][0]))\n",
    "#    return x-y+z\n",
    "    \n",
    "    \n",
    "def producto_cruz(x, y):\n",
    "    i = (1, 0, 0)\n",
    "    j = (0, 1, 0)\n",
    "    k = (0, 0, 1)\n",
    "    if type(x) == tuple:\n",
    "        x1, x2, x3 = x\n",
    "    if type(y) == tuple:\n",
    "        y1, y2, y3 = y\n",
    "    cruz = suma_vectores(producto_escalar((x2*y3 - x3*y2), i), vector_menos(producto_escalar((x1*y3 - x3*y1), j)), producto_escalar((x1*y2 - x2*y1), k))\n",
    "    return cruz\n",
    "\n",
    "\n",
    "# Le pedimos al usuario que introduzca los valores de los dos vectores, separados por un espacio (por eso el split), y convertimos el input en una tupla:\n",
    "vec1 = tuple(float(x) for x in input(\"Ingrese las entradas del primer vector, separadas por un espacio: \").split())\n",
    "vec2 = tuple(float(x) for x in input(\"Ingrese las entradas del segundo vector, separadas por un espacio: \").split())\n",
    "\n",
    "\n",
    "print(\"El producto cruz del primer vector por el segundo es el vector: \", end='')\n",
    "print(producto_cruz(vec1, vec2))\n"
   ]
  },
  {
   "cell_type": "markdown",
   "metadata": {},
   "source": [
    "$ \\text{7. (a) Escribir un programa que sume dos vectores en } \\mathbb{R^3} $"
   ]
  },
  {
   "cell_type": "markdown",
   "metadata": {},
   "source": [
    "$ \\text{Usaremos la misma función que definimos en el ejercicio pasado} $"
   ]
  },
  {
   "cell_type": "code",
   "execution_count": null,
   "metadata": {},
   "outputs": [],
   "source": [
    "v3_1 = tuple(float(x) for x in input(\"Ingrese las entradas del primer vector, separadas por un espacio: \").split())\n",
    "v3_2 = tuple(float(x) for x in input(\"Ingrese las entradas del segundo vector, separadas por un espacio: \").split())\n",
    "\n",
    "v0 = (0, 0, 0) # También usaremos este vector para poder usar la función definida antes, que pide tres argumentos\n",
    "print(\"La suma de los dos vectores es: \", end='')\n",
    "print(suma_vectores(v3_1, v3_2, v0))"
   ]
  },
  {
   "cell_type": "markdown",
   "metadata": {},
   "source": [
    "$ \\text{(b) Escribir un programa para sumar dos vectores en } \\mathbb{R^n} $"
   ]
  },
  {
   "cell_type": "markdown",
   "metadata": {},
   "source": [
    "$ \\text{Primero debemos escribir un archivo de texto que contenga los valores de dos vectores. Luego leeremos ese archivo y sumaremos los valores.} $"
   ]
  },
  {
   "cell_type": "code",
   "execution_count": 19,
   "metadata": {},
   "outputs": [
    {
     "name": "stdout",
     "output_type": "stream",
     "text": [
      "(7.0, 11.0, 20.0, 26.0, 20.0, 15.0, 15.0, 12.0)\n"
     ]
    }
   ],
   "source": [
    "vectores = []\n",
    "\n",
    "with open('vectores.txt', 'r') as vecs: # Leemos el archivo vectores\n",
    "    for line in vecs:\n",
    "        vectores.append(line.strip('\\n')) # Adjuntamos las dos líneas a la lista 'vectores'\n",
    "        \n",
    "v1 = [] # Separamos los dos vectores, cada uno en una losta distinta\n",
    "v1.append(vectores[0])\n",
    "v2 = []\n",
    "v2.append(vectores[1])\n",
    "\n",
    "\n",
    "for i in v1[0][:10]: # Adjuntamos a la lista v1 sus elementos de un solo dígito, quitando las comas\n",
    "    if i != ',':\n",
    "        v1.append(i)\n",
    "        \n",
    "\n",
    "v1.append(v1[0][10:12]) # Adjuntamos los valores de doble dígito a la misma lista\n",
    "v1.append(v1[0][13:15])\n",
    "v1.append(v1[0][16:])\n",
    "v1.remove(v1[0]) # Quitamos el primer string, que cintenía a todos los valores del vector 'de corrido'\n",
    "\n",
    "v1_final = []\n",
    "\n",
    "for i in v1:\n",
    "    v1_final.append(float(i)) # Creamos una lista para guardar ahí las entradas del vector como números\n",
    "    \n",
    "\n",
    "# Hacemos todo lo anterior pero para v2\n",
    "for i in v2[0][:4]:\n",
    "    if i != ',':\n",
    "        v2.append(i)\n",
    "        \n",
    "v2.append(v2[0][4:6])\n",
    "v2.append(v2[0][7:9])\n",
    "v2.append(v2[0][10:12])\n",
    "    \n",
    "for i in v2[0][13:]:\n",
    "    if i != ',':\n",
    "        v2.append(i)\n",
    "\n",
    "v2.remove(v2[0])\n",
    "\n",
    "v2_final = []\n",
    "\n",
    "\n",
    "for i in v2:\n",
    "    v2_final.append(float(i))\n",
    "    \n",
    "vec_resul = [] # Hacemos una lista para que nos enseñe el resultado de sumar los dos vectores:\n",
    "\n",
    "for i in range(len(v1_final)): # Por último, sumamos cada una de las entradas de un vector con otro:\n",
    "    r = v1_final[i] + v2_final[i]\n",
    "    vec_resul.append(r)\n",
    "    \n",
    "print(tuple(vec_resul)) # Convertimos la lista resultante en una tupla para que se vea mejor"
   ]
  },
  {
   "cell_type": "markdown",
   "metadata": {},
   "source": [
    "$ \\text{8. (a) Calcular el producto interior de dos vectores en } \\mathbb{R^3} $"
   ]
  },
  {
   "cell_type": "markdown",
   "metadata": {},
   "source": [
    "$ \\text{Le vamos a pedir al usuario las entradas de los vectores y definiremos una función de producto punto para dos vectores en } \\mathbb{R^3} $"
   ]
  },
  {
   "cell_type": "code",
   "execution_count": 3,
   "metadata": {},
   "outputs": [
    {
     "name": "stdin",
     "output_type": "stream",
     "text": [
      "Ingrese las entradas del primer vector, separadas por un espacio:  1 2 3\n",
      "Ingrese las entradas del segundo vector, separadas por un espacio:  3 4 5\n"
     ]
    },
    {
     "name": "stdout",
     "output_type": "stream",
     "text": [
      "El producto punto de los dos vectores es: 26.0\n"
     ]
    }
   ],
   "source": [
    "v1_3 = tuple(float(x) for x in input(\"Ingrese las entradas del primer vector, separadas por un espacio: \").split())\n",
    "v2_3 = tuple(float(x) for x in input(\"Ingrese las entradas del segundo vector, separadas por un espacio: \").split())\n",
    "\n",
    "def punto(x, y): # Hacemos algo parecido al producti cruz, pero para vectores en Rn\n",
    "    if type(x) == tuple and type(y) == tuple:\n",
    "        prod_punto = 0\n",
    "        for index, element in enumerate(x):\n",
    "            prod_punto += x[index] * y[index]\n",
    "    return prod_punto\n",
    "\n",
    "\n",
    "print(\"El producto punto de los dos vectores es: \", end='')\n",
    "print(punto(v1_3, v2_3))"
   ]
  },
  {
   "cell_type": "markdown",
   "metadata": {},
   "source": [
    "$ \\text{(b) Calcular el producto de dos vectores en } \\mathbb{R^n} \\text{, leyendo los vectores de un archivo.} $"
   ]
  },
  {
   "cell_type": "markdown",
   "metadata": {},
   "source": [
    "$ \\text{Haremos exactamente lo mismo que con la suma de los vectores en } \\mathbb{R^n} \\text{, cambiando la última parte.} $"
   ]
  },
  {
   "cell_type": "code",
   "execution_count": 33,
   "metadata": {},
   "outputs": [
    {
     "name": "stdout",
     "output_type": "stream",
     "text": [
      "356.0\n"
     ]
    }
   ],
   "source": [
    "vectores = []\n",
    "\n",
    "with open('vectores.txt', 'r') as vecs: # Leemos el archivo vectores\n",
    "    for line in vecs:\n",
    "        vectores.append(line.strip('\\n')) # Adjuntamos las dos líneas a la lista 'vectores'\n",
    "        \n",
    "v1 = [] # Separamos los dos vectores, cada uno en una losta distinta\n",
    "v1.append(vectores[0])\n",
    "v2 = []\n",
    "v2.append(vectores[1])\n",
    "\n",
    "\n",
    "for i in v1[0][:10]: # Adjuntamos a la lista v1 sus elementos de un solo dígito, quitando las comas\n",
    "    if i != ',':\n",
    "        v1.append(i)\n",
    "        \n",
    "\n",
    "v1.append(v1[0][10:12]) # Adjuntamos los valores de doble dígito a la misma lista\n",
    "v1.append(v1[0][13:15])\n",
    "v1.append(v1[0][16:])\n",
    "v1.remove(v1[0]) # Quitamos el primer string, que cintenía a todos los valores del vector 'de corrido'\n",
    "\n",
    "v1_final = []\n",
    "\n",
    "for i in v1:\n",
    "    v1_final.append(float(i)) # Creamos una lista para guardar ahí las entradas del vector como números\n",
    "    \n",
    "\n",
    "# Hacemos todo lo anterior pero para v2\n",
    "for i in v2[0][:4]:\n",
    "    if i != ',':\n",
    "        v2.append(i)\n",
    "        \n",
    "v2.append(v2[0][4:6])\n",
    "v2.append(v2[0][7:9])\n",
    "v2.append(v2[0][10:12])\n",
    "    \n",
    "for i in v2[0][13:]:\n",
    "    if i != ',':\n",
    "        v2.append(i)\n",
    "\n",
    "v2.remove(v2[0])\n",
    "\n",
    "v2_final = []\n",
    "\n",
    "\n",
    "for i in v2:\n",
    "    v2_final.append(float(i))\n",
    "\n",
    "punto_n = 0\n",
    "for i in range(len(v1_final)): # Por último, sumamos cada una de las entradas de un vector con otro:\n",
    "    punto_n += v1_final[i] * v2_final[i]  \n",
    "\n",
    "print(punto_n)"
   ]
  },
  {
   "cell_type": "markdown",
   "metadata": {},
   "source": [
    "$ \\text{9. (a) Calcular el resultado de sumar dos matrices en } \\mathbb{R^{2x2}} $"
   ]
  },
  {
   "cell_type": "markdown",
   "metadata": {},
   "source": [
    "$ \\text{Primero le pediremos al usuario que introduzca las entradas de las matrices, por fila.} $"
   ]
  },
  {
   "cell_type": "code",
   "execution_count": 4,
   "metadata": {},
   "outputs": [
    {
     "name": "stdin",
     "output_type": "stream",
     "text": [
      "Ingrese las entradas de la primera fila de la primer matriz, separadas por un espacio:  1 2\n",
      "Ingrese las entradas de la segunda fila de la primera matriz, separadas por un espacio:  3 4\n"
     ]
    },
    {
     "name": "stdout",
     "output_type": "stream",
     "text": [
      "\n",
      "Recuerda que las matrices tienen que ser de la misma dimensión para ser sumadas\n",
      "\n"
     ]
    },
    {
     "name": "stdin",
     "output_type": "stream",
     "text": [
      "Ingrese las entradas de la primera fila de la segunda matriz, separadas por un espacio:  5 6\n",
      "Ingrese las entradas de la segunda fila de la segunda matriz, separadas por un espacio:  7 8\n"
     ]
    },
    {
     "name": "stdout",
     "output_type": "stream",
     "text": [
      "\n",
      "A = [1.0, 2.0]\n",
      "    [3.0, 4.0]\n",
      "\n",
      "B = [5.0, 6.0]\n",
      "    [7.0, 8.0]\n",
      "==============================\n",
      "La matriz resultante de sumar la matriz A y la matriz B es:\n",
      "F = [6.0, 8.0]\n",
      "    [10.0, 12.0]\n"
     ]
    }
   ],
   "source": [
    "# Primero le pediremos al usuario que introduzca los elemtnos de la primer matriz, por filas y cada fila la haremos una lista:\n",
    "# (El código permite que las matrices sean de 2xn, siempre y cuando las dos sean de la misma dimensión)\n",
    "fila1m1 = [float(x) for x in input(\"Ingrese las entradas de la primera fila de la primer matriz, separadas por un espacio: \").split()]\n",
    "fila2m1 = [float(x) for x in input(\"Ingrese las entradas de la segunda fila de la primera matriz, separadas por un espacio: \").split()]\n",
    "\n",
    "print()\n",
    "\n",
    "print(\"Recuerda que las matrices tienen que ser de la misma dimensión para ser sumadas\")\n",
    "\n",
    "print()\n",
    "# Hacemos lo mismo que hicimos con la primermatriz para la segunda matriz:\n",
    "fila1m2 = [float(x) for x in input(\"Ingrese las entradas de la primera fila de la segunda matriz, separadas por un espacio: \").split()]\n",
    "fila2m2 = [float(x) for x in input(\"Ingrese las entradas de la segunda fila de la segunda matriz, separadas por un espacio: \").split()]\n",
    "\n",
    "\n",
    "matriz_A = (fila1m1, # Almacenamos esas dos filas en una tupla\n",
    "            fila2m1)\n",
    "\n",
    "matriz_B = (fila1m2,\n",
    "            fila2m2)\n",
    "\n",
    "\n",
    "\n",
    "# Me gustaría usar el siguiente bloque de código pero mi computadora parece tener problemas al ejecutar la celda\n",
    "\n",
    "\n",
    "\n",
    "\n",
    "# while True: # Usamos un while loop para los casos en los que los valores introducidos por el usuario sean inválidos y así se vuelvan a pedir los valores, hasta que resulten válidos.\n",
    "#    for i in range(len(matriz_A)):\n",
    "#        if len(matriz_A[i]) != len(matriz_B[i]):\n",
    "#            print(\"Las matrices tienen que ser de la misma deimesión para ser sumadas\")\n",
    "#            print()\n",
    "#            fila1m1 = [float(x) for x in input(\"Ingrese las entradas de la primera fila de la primer matriz, separadas por un espacio: \").split()]\n",
    "#            fila2m1 = [float(x) for x in input(\"Ingrese las entradas de la segunda fila de la primera matriz, separadas por un espacio: \").split()]\n",
    "\n",
    "#            print()\n",
    "\n",
    "#            print(\"Recuerda que las matrices tienen que ser de la misma dimensión para ser sumadas\")\n",
    "\n",
    "#            print()\n",
    "#            # Hacemos lo mismo que hicimos con la primermatriz para la segunda matriz:\n",
    "#            fila1m2 = [float(x) for x in input(\"Ingrese las entradas de la primera fila de la segunda matriz, separadas por un espacio: \").split()]\n",
    "#            fila2m2 = [float(x) for x in input(\"Ingrese las entradas de la segunda fila de la segunda matriz, separadas por un espacio: \").split()]\n",
    "\n",
    "\n",
    "#            matriz_A = (fila1m1, # Almacenamos esas dos filas en una tupla\n",
    "#                        fila2m1)\n",
    "\n",
    "#            matriz_B = (fila1m2,\n",
    "#                        fila2m2)\n",
    "#        else:\n",
    "#            continue\n",
    "#        break\n",
    "\n",
    "print()\n",
    "\n",
    "# print(matriz_A)\n",
    "print(\"A = \", end='') # Imprimimos la matriz A para que el usuario la pueda ver\n",
    "for i in matriz_A:\n",
    "    if i != matriz_A[0]:\n",
    "        print(\"    \", end='')\n",
    "        print(i)\n",
    "    else:\n",
    "        print(i)\n",
    "\n",
    "print()\n",
    "\n",
    "print(\"B = \", end='') # Imprimimos la matriz B\n",
    "for i in matriz_B:\n",
    "    if i != matriz_B[0]:\n",
    "        print(\"    \", end='')\n",
    "        print(i)\n",
    "    else:\n",
    "        print(i)\n",
    "        \n",
    "C = []\n",
    "\n",
    "for i in range(len(matriz_A)): # En este ciclo, sumamos las entradas de las matrices una por una y las almacenamos en la lista C\n",
    "    for j in range(len(matriz_A[i])):\n",
    "        summat = matriz_A[i][j] + matriz_B[i][j]\n",
    "        C.append(summat)\n",
    "        \n",
    "fila_final1 = []\n",
    "fila_final2 = []\n",
    "\n",
    "for i in C: # Aquí separamos la lista C en dos listas diferentes, para luego almacenar esas dis listas en una matriz que contenga la suma de A y B\n",
    "    if i in C[:len(fila1m1)]:\n",
    "        fila_final1.append(i)\n",
    "    else:\n",
    "        fila_final2.append(i)\n",
    "        \n",
    "matriz_final = (fila_final1,\n",
    "                fila_final2)\n",
    "\n",
    "print(\"=\"*30)\n",
    "\n",
    "print(\"La matriz resultante de sumar la matriz A y la matriz B es:\")\n",
    "print(\"F = \", end='') # Por último, imprimimos la matriz resultante\n",
    "for i in matriz_final:\n",
    "    if i != matriz_final[0]:\n",
    "        print(\"    \", end='')\n",
    "        print(i)\n",
    "    else:\n",
    "        print(i)    "
   ]
  },
  {
   "cell_type": "markdown",
   "metadata": {},
   "source": [
    "$ \\text{(b) Escribir un programa para sumar dos matrices de nxn, leyendo las entradas de un archivo de texto.} $"
   ]
  },
  {
   "cell_type": "markdown",
   "metadata": {},
   "source": [
    "$ \\text{Primero leeremos el archivo de texto y organizaremos la información en él para luego pode ejecutar un código muy} \\\\ \\text{parecido al del inciso anterior.} $"
   ]
  },
  {
   "cell_type": "code",
   "execution_count": 27,
   "metadata": {},
   "outputs": [
    {
     "name": "stdout",
     "output_type": "stream",
     "text": [
      "La suma de las dos matrices es: \n",
      "\t [4.0, 11.0, 9.0] \n",
      " \t [5.0, 10.0, 8.0] \n",
      " \t [14.0, 13.0, 14.0]\n"
     ]
    }
   ],
   "source": [
    "# Leeremos el archivo\n",
    "with open('matrices.txt', 'r') as matrices:\n",
    "    filas_matrices = (matrices.readlines())\n",
    "    for linea in filas_matrices:\n",
    "        if linea == '\\n':\n",
    "            filas_matrices.remove(linea)   \n",
    "            \n",
    "matriz1_b = []\n",
    "matriz2_b = []\n",
    "            \n",
    "for i in range(len(filas_matrices)):\n",
    "    if i in range(3):\n",
    "        matriz1_b.append(filas_matrices[i])\n",
    "    else:\n",
    "        matriz2_b.append(filas_matrices[i])\n",
    "\n",
    "matriz1_preliminar = []\n",
    "\n",
    "for i in matriz1_b:\n",
    "    for j in i:\n",
    "        matriz1_preliminar.append(j)\n",
    "        \n",
    "matriz1_final = []\n",
    "\n",
    "for i in matriz1_preliminar:\n",
    "    if i == '\\n' or i == ' ':\n",
    "        matriz1_preliminar.remove(i)\n",
    "\n",
    "# Por alguna razón, no pude hacer hacer lo que hace el siguiente for loop en el anterior :/\n",
    "        \n",
    "for i in matriz1_preliminar:\n",
    "    matriz1_final.append(float(i))\n",
    "\n",
    "matriz2_preliminar = []\n",
    "\n",
    "for i in matriz2_b:\n",
    "    for j in i:\n",
    "        matriz2_preliminar.append(j)\n",
    "        \n",
    "matriz2_final = []\n",
    "\n",
    "for i in matriz2_preliminar:\n",
    "    if i == '\\n' or i == ' ':\n",
    "        matriz2_preliminar.remove(i)\n",
    "\n",
    "# Por alguna razón, no pude hacer hacer lo que hace el siguiente for loop en el anterior :/\n",
    "        \n",
    "for i in matriz2_preliminar:\n",
    "    matriz2_final.append(float(i))\n",
    "\n",
    "matriz_suma_preliminar = []\n",
    "\n",
    "for i in range(len(matriz1_final)):\n",
    "    suma_preliminar = matriz1_final[i] + matriz2_final[i]\n",
    "    matriz_suma_preliminar.append(suma_preliminar)\n",
    "    \n",
    "    \n",
    "r1 = []\n",
    "r2 = []\n",
    "r3 = []\n",
    "\n",
    "for i in matriz_suma_preliminar:\n",
    "    if i in matriz_suma_preliminar[:3]:\n",
    "        r1.append(i)\n",
    "    elif i in matriz_suma_preliminar[3:6]:\n",
    "        r2.append(i)\n",
    "    else:\n",
    "        r3.append(i)\n",
    "        \n",
    "\n",
    "print(\"La suma de las dos matrices es: \")\n",
    "print('\\t',r1,'\\n','\\t',r2,'\\n','\\t',r3)"
   ]
  },
  {
   "cell_type": "markdown",
   "metadata": {},
   "source": [
    "$ \\text{10. (a) Escribir un programa para multiplicar una matriz de nxm por un vector en } \\mathbb{R^m} $"
   ]
  },
  {
   "cell_type": "markdown",
   "metadata": {},
   "source": [
    "$ \\text{Ya que tenemos que leer tanto las entradas de la matriz como las entradas del vector de un archivo de texto, primero escribiremos tanto el vector como la matriz en un archivo, } \\\\ \\text{al cual llamaremos \"matriz_vector.txt\"} $"
   ]
  },
  {
   "cell_type": "code",
   "execution_count": 9,
   "metadata": {},
   "outputs": [
    {
     "name": "stdout",
     "output_type": "stream",
     "text": [
      " [76.0] \n",
      " [115.0] \n",
      " [126.0]\n"
     ]
    }
   ],
   "source": [
    "# Primero vamos a leer el archivo y extraer tanto la matriz como el vector:\n",
    "\n",
    "with open('matriz_vector.txt', 'r') as matriz_vector:\n",
    "    filas_matriz_vector = (matriz_vector.readlines())\n",
    "    for linea in filas_matriz_vector:\n",
    "        if linea == '\\n':\n",
    "            filas_matriz_vector.remove(linea) \n",
    "\n",
    "matriz_ej10 = []\n",
    "vector_ej10 = []\n",
    "            \n",
    "for i in range(len(filas_matriz_vector)):\n",
    "    if i in range(len(filas_matriz_vector)-1): # Ponemos len(filas_matriz_vector)-1 porque sabemos que la última línea(el vector va después de la matriz).\n",
    "        matriz_ej10.append(filas_matriz_vector[i])\n",
    "    else:\n",
    "        vector_ej10.append(filas_matriz_vector[i]) \n",
    "\n",
    "\n",
    "matrizej10_preliminar = []\n",
    "\n",
    "for i in matriz_ej10:\n",
    "    for j in i:\n",
    "        matrizej10_preliminar.append(j)\n",
    "        \n",
    "matrizej10_final = []\n",
    "\n",
    "for i in matrizej10_preliminar:\n",
    "    if i == '\\n' or i == ' ':\n",
    "        matrizej10_preliminar.remove(i)\n",
    "\n",
    "for i in matrizej10_preliminar:\n",
    "    matrizej10_final.append(float(i))\n",
    "\n",
    "f1_101 = []\n",
    "f2_101 = []\n",
    "f3_101 = []\n",
    "\n",
    "\n",
    "for i in range(len(matrizej10_final)):\n",
    "    if i in range(len(matrizej10_final)//(len(filas_matriz_vector)-1)):\n",
    "        f1_101.append(matrizej10_final[i])\n",
    "    elif i in range(2*(len(matrizej10_final))//(len(filas_matriz_vector)-1)):\n",
    "        f2_101.append(matrizej10_final[i])\n",
    "    else:\n",
    "        f3_101.append(matrizej10_final[i]) \n",
    "\n",
    "# Hasta ahora, hemos hecho exactamente lo mismo que en el ejercicio anterior para la matriz que leímos del archivo        \n",
    "\n",
    "f1_102 = tuple(f1_101)\n",
    "f2_102 = tuple(f2_101)\n",
    "f3_102 = tuple(f3_101)\n",
    "\n",
    "\n",
    "vectorej10_preliminar = []\n",
    "\n",
    "for i in vector_ej10:\n",
    "    for j in i:\n",
    "        vectorej10_preliminar.append(j)\n",
    "\n",
    "vectorej10_final = []\n",
    "\n",
    "for i in vectorej10_preliminar:\n",
    "    if i == '\\n' or i == ' ':\n",
    "        vectorej10_preliminar.remove(i)\n",
    "\n",
    "for i in vectorej10_preliminar:\n",
    "    vectorej10_final.append(float(i))\n",
    "    \n",
    "vec10 = tuple(vectorej10_final)\n",
    "\n",
    "# Hacemos lo mismo que hicimos con la matriz pero ahora con el vector (separar el str inicial en distintos str, convertir esos str a float y colectarlos en una lista. Al final, esa lista se convierte en una tupla.)\n",
    "\n",
    "print('',[punto(f1_102, vec10)],'\\n',[punto(f2_102, vec10)],'\\n',[punto(f3_102, vec10)]) # Imprimimos el vector resultante"
   ]
  },
  {
   "cell_type": "markdown",
   "metadata": {},
   "source": [
    "$ \\text{(b) Multiplica dos matrices: las entradas de las matrices debe de ingresarlas el usuario.} $"
   ]
  },
  {
   "cell_type": "code",
   "execution_count": 1,
   "metadata": {},
   "outputs": [
    {
     "name": "stdout",
     "output_type": "stream",
     "text": [
      "IMPORTANTE: Cuando ya no se quieran ingresar filas para la matriz, ingresar la palabra 'ya'.\n",
      "\n"
     ]
    },
    {
     "name": "stdin",
     "output_type": "stream",
     "text": [
      "Ingrese las entradas de la siguiente fila de la primera matriz, separadas por un espacio:  1 2\n",
      "Ingrese las entradas de la siguiente fila de la primera matriz, separadas por un espacio:  2 3\n",
      "Ingrese las entradas de la siguiente fila de la primera matriz, separadas por un espacio:  ya\n"
     ]
    },
    {
     "name": "stdout",
     "output_type": "stream",
     "text": [
      "========================================\n",
      "IMPORTANTE: Cuando ya no se quieran ingresar filas para la matriz, ingresar la palabra 'ya'.\n",
      "Recuerda que el número de filas de la segunda matriz tiene que ser igual al número de columnas de la primera:  2\n",
      "\n"
     ]
    },
    {
     "name": "stdin",
     "output_type": "stream",
     "text": [
      "Ingrese las entradas de la siguiente fila de la segunda matriz, separadas por un espacio:  3 4\n",
      "Ingrese las entradas de la siguiente fila de la primera matriz, separadas por un espacio:  4 5\n",
      "Ingrese las entradas de la siguiente fila de la primera matriz, separadas por un espacio:  ya\n"
     ]
    },
    {
     "name": "stdout",
     "output_type": "stream",
     "text": [
      "\n",
      "A = [1.0, 2.0]\n",
      "    [2.0, 3.0]\n",
      "\n",
      "B = [3.0, 4.0]\n",
      "    [4.0, 5.0]\n"
     ]
    },
    {
     "ename": "NameError",
     "evalue": "name 'punto' is not defined",
     "output_type": "error",
     "traceback": [
      "\u001b[1;31m---------------------------------------------------------------------------\u001b[0m",
      "\u001b[1;31mNameError\u001b[0m                                 Traceback (most recent call last)",
      "\u001b[1;32m<ipython-input-1-214b49b69e60>\u001b[0m in \u001b[0;36m<module>\u001b[1;34m\u001b[0m\n\u001b[0;32m     80\u001b[0m     \u001b[0mmatriz_final_tuplas\u001b[0m \u001b[1;33m=\u001b[0m \u001b[1;33m[\u001b[0m\u001b[1;33m]\u001b[0m\u001b[1;33m\u001b[0m\u001b[1;33m\u001b[0m\u001b[0m\n\u001b[0;32m     81\u001b[0m     \u001b[1;32mfor\u001b[0m \u001b[0mi\u001b[0m \u001b[1;32min\u001b[0m \u001b[0mrange\u001b[0m\u001b[1;33m(\u001b[0m\u001b[0mlen\u001b[0m\u001b[1;33m(\u001b[0m\u001b[0mmatriz_B_tuplas\u001b[0m\u001b[1;33m)\u001b[0m\u001b[1;33m)\u001b[0m\u001b[1;33m:\u001b[0m\u001b[1;33m\u001b[0m\u001b[1;33m\u001b[0m\u001b[0m\n\u001b[1;32m---> 82\u001b[1;33m         \u001b[0mprod_matr\u001b[0m \u001b[1;33m=\u001b[0m \u001b[0mpunto\u001b[0m\u001b[1;33m(\u001b[0m\u001b[0mmatriz_A_tuplas\u001b[0m\u001b[1;33m[\u001b[0m\u001b[0mj\u001b[0m\u001b[1;33m]\u001b[0m\u001b[1;33m,\u001b[0m \u001b[0mmatriz_B_tuplas\u001b[0m\u001b[1;33m[\u001b[0m\u001b[0mi\u001b[0m\u001b[1;33m]\u001b[0m\u001b[1;33m)\u001b[0m\u001b[1;33m\u001b[0m\u001b[1;33m\u001b[0m\u001b[0m\n\u001b[0m\u001b[0;32m     83\u001b[0m         \u001b[0mmatriz_final_tuplas\u001b[0m\u001b[1;33m.\u001b[0m\u001b[0mappend\u001b[0m\u001b[1;33m(\u001b[0m\u001b[0mprod_matr\u001b[0m\u001b[1;33m)\u001b[0m\u001b[1;33m\u001b[0m\u001b[1;33m\u001b[0m\u001b[0m\n\u001b[0;32m     84\u001b[0m \u001b[1;33m\u001b[0m\u001b[0m\n",
      "\u001b[1;31mNameError\u001b[0m: name 'punto' is not defined"
     ]
    }
   ],
   "source": [
    "\n",
    "print(\"IMPORTANTE: Cuando ya no se quieran ingresar filas para la matriz, ingresar la palabra 'ya'.\")\n",
    "\n",
    "print()\n",
    "\n",
    "filam101 = input(\"Ingrese las entradas de la siguiente fila de la primera matriz, separadas por un espacio: \").split()\n",
    "\n",
    "matriz_A_10 = []\n",
    "\n",
    "while True:\n",
    "    element = filam101[0]\n",
    "    if element != 'ya':\n",
    "        matriz1_valida = [float(x) for x in filam101]\n",
    "        matriz_A_10.append(matriz1_valida)\n",
    "    else:\n",
    "        break\n",
    "    filam101 = input(\"Ingrese las entradas de la siguiente fila de la primera matriz, separadas por un espacio: \").split()\n",
    "\n",
    "print(\"=\"*40)\n",
    "\n",
    "print(\"IMPORTANTE: Cuando ya no se quieran ingresar filas para la matriz, ingresar la palabra 'ya'.\")\n",
    "print(\"Recuerda que el número de filas de la segunda matriz tiene que ser igual al número de columnas de la primera: \", len(matriz_A_10[0]))\n",
    "\n",
    "print()\n",
    "\n",
    "filam102 = input(\"Ingrese las entradas de la siguiente fila de la segunda matriz, separadas por un espacio: \").split()\n",
    "\n",
    "matriz_B_10 = []\n",
    "\n",
    "while True:\n",
    "    element = filam102[0]\n",
    "    if element != 'ya':\n",
    "        matriz2_valida = [float(x) for x in filam102]\n",
    "        matriz_B_10.append(matriz2_valida)\n",
    "    else:\n",
    "        break\n",
    "    filam102 = input(\"Ingrese las entradas de la siguiente fila de la primera matriz, separadas por un espacio: \").split()\n",
    "\n",
    "print()\n",
    "\n",
    "\n",
    "print(\"A = \", end='') # Imprimimos la matriz A para que el usuario la pueda ver\n",
    "for i in matriz_A_10:\n",
    "    if i != matriz_A_10[0]:\n",
    "        print(\"    \", end='')\n",
    "        print(i)\n",
    "    else:\n",
    "        print(i)\n",
    "\n",
    "print()\n",
    "\n",
    "print(\"B = \", end='') # Imprimimos la matriz B\n",
    "for i in matriz_B_10:\n",
    "    if i != matriz_B_10[0]:\n",
    "        print(\"    \", end='')\n",
    "        print(i)\n",
    "    else:\n",
    "        print(i)\n",
    "\n",
    "matriz_A_tuplas = []\n",
    "\n",
    "for i in matriz_A_10:\n",
    "    fila_tupla_A = tuple(i)\n",
    "    matriz_A_tuplas.append(fila_tupla_A)\n",
    "\n",
    "\n",
    "matriz_B_tuplas = []\n",
    "\n",
    "mc = 0\n",
    "for k in range(len(matriz_B_10[0])):\n",
    "    columna = []\n",
    "    for i in range(len(matriz_B_10)):\n",
    "        columna.append(matriz_B_10[i][mc])\n",
    "    matriz_B_tuplas.append(tuple(columna))\n",
    "    mc += 1\n",
    "\n",
    "\n",
    "matriz_resultante = []\n",
    "\n",
    "for j in range(len(matriz_A_tuplas)):\n",
    "    matriz_final_tuplas = []\n",
    "    for i in range(len(matriz_B_tuplas)):\n",
    "        prod_matr = punto(matriz_A_tuplas[j], matriz_B_tuplas[i])\n",
    "        matriz_final_tuplas.append(prod_matr)\n",
    "        \n",
    "    matriz_resultante.append(matriz_final_tuplas)\n",
    "\n",
    "print()\n",
    "\n",
    "print('='*40)\n",
    "\n",
    "print(\"La matriz A por la matriz B (en ese orden) es igual a: \")\n",
    "print()\n",
    "print(\"C = \", end='')\n",
    "\n",
    "for i in matriz_resultante:\n",
    "    if matriz_resultante[0] == i:\n",
    "        print('  ',i)\n",
    "    else:\n",
    "        print('\\t', i)"
   ]
  },
  {
   "cell_type": "code",
   "execution_count": null,
   "metadata": {},
   "outputs": [],
   "source": []
  }
 ],
 "metadata": {
  "kernelspec": {
   "display_name": "Python 3",
   "language": "python",
   "name": "python3"
  },
  "language_info": {
   "codemirror_mode": {
    "name": "ipython",
    "version": 3
   },
   "file_extension": ".py",
   "mimetype": "text/x-python",
   "name": "python",
   "nbconvert_exporter": "python",
   "pygments_lexer": "ipython3",
   "version": "3.8.3"
  }
 },
 "nbformat": 4,
 "nbformat_minor": 4
}
