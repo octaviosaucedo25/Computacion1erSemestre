{
 "cells": [
  {
   "cell_type": "markdown",
   "metadata": {},
   "source": [
    "# INTRODUCCIÓN A PYTHON\n",
    "\n",
    "Sergio A. Alcalá Corona <br>\n",
    "Sergio A. Sánchez Chávez\n",
    "\n",
    "---\n",
    "---"
   ]
  },
  {
   "cell_type": "markdown",
   "metadata": {},
   "source": [
    "Octavio Saucedo Avila"
   ]
  },
  {
   "cell_type": "markdown",
   "metadata": {},
   "source": [
    "# Algoritmos Computacionales\n",
    "\n",
    "## Sucesiones numéricas y su gráfica\n",
    "\n",
    "A continuación se expone la resolución del problema propuesto por mi compañera Janet Martínez:\n",
    "\n",
    "Escribe un algoritmo que cree una sucesión de la forma $$a_n=\\{1+\\frac{1}{n}\\}$$ con un dominio desde $n=1$ hasta $n=30$ con $n \\in \\mathbb{N}$; y que elabore la gráfica de los puntos que la componen.\n",
    "\n",
    "---\n",
    "**Indicaciones**:\n",
    "1. Establecemos el dominio de la sucesión, en este caso, números naturales desde $n=1$ hasta $n=30$.\n",
    "2. La segunda coordenada de los puntos será el resultado de evaluar cada $n$ en la expresión $1+\\frac{1}{n}$.\n",
    "3. Se imprime el \"rango\" de la gráfica como una lista de valores.\n",
    "4. Con el comando *plt.plot(x, y, 'o')* se traza la gráfica de la sucesión $a_n$, o mejor dicho, los 30 puntos que la componen para el intervalo $n \\in [1,30] \\ ;n \\in \\mathbb{N}$.\n",
    "\n",
    "\n",
    "**Algoritmo y gráfica:**"
   ]
  },
  {
   "cell_type": "code",
   "execution_count": 29,
   "metadata": {},
   "outputs": [],
   "source": [
    "# Paqueterías utilizadas\n",
    "from numpy import *\n",
    "import math\n",
    "from matplotlib import *\n",
    "import matplotlib.pyplot as plt\n",
    "import numpy as np"
   ]
  },
  {
   "cell_type": "code",
   "execution_count": 38,
   "metadata": {},
   "outputs": [
    {
     "name": "stdout",
     "output_type": "stream",
     "text": [
      "[2.      1.5     1.33333 1.25    1.2     1.16667 1.14286 1.125   1.11111\n",
      " 1.1     1.09091 1.08333 1.07692 1.07143 1.06667 1.0625  1.05882 1.05556\n",
      " 1.05263 1.05    1.04762 1.04545 1.04348 1.04167 1.04    1.03846 1.03704\n",
      " 1.03571 1.03448]\n"
     ]
    },
    {
     "data": {
      "text/plain": [
       "[<matplotlib.lines.Line2D at 0x1c6e3037fa0>]"
      ]
     },
     "execution_count": 38,
     "metadata": {},
     "output_type": "execute_result"
    },
    {
     "data": {
      "image/png": "[encoded data removed]",
      "text/plain": [
       "<Figure size 432x288 with 1 Axes>"
      ]
     },
     "metadata": {
      "needs_background": "light"
     },
     "output_type": "display_data"
    }
   ],
   "source": [
    "x = range(1,30,1)\n",
    "y = np.round([1+1/n for n in range(1,30,1)], decimals = 5)\n",
    "print(y)\n",
    "plt.plot(x, y, 'o')"
   ]
  }
 ],
 "metadata": {
  "kernelspec": {
   "display_name": "Python 3",
   "language": "python",
   "name": "python3"
  },
  "language_info": {
   "codemirror_mode": {
    "name": "ipython",
    "version": 3
   },
   "file_extension": ".py",
   "mimetype": "text/x-python",
   "name": "python",
   "nbconvert_exporter": "python",
   "pygments_lexer": "ipython3",
   "version": "3.8.3"
  }
 },
 "nbformat": 4,
 "nbformat_minor": 4
}
