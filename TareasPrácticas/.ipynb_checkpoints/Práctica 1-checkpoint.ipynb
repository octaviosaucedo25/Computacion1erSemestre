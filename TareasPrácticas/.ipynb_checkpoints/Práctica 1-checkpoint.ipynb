{
 "cells": [
  {
   "cell_type": "markdown",
   "metadata": {},
   "source": [
    "**PRÁCTICA 1. COMANDOS BÁSICOS Y SISTEMA DE ARCHIVOS**\n",
    "\n",
    "COMPUTACIÓN 8093\n",
    "\n",
    "Alumno: Octavio Saucedo Avila \n",
    "\n",
    "19 de octubre de 2020"
   ]
  },
  {
   "cell_type": "markdown",
   "metadata": {},
   "source": [
    "**1. FECHAS Y CALENDARIO**"
   ]
  },
  {
   "cell_type": "markdown",
   "metadata": {},
   "source": [
    "*a) Comando \"whoami\" y \"date\".*"
   ]
  },
  {
   "cell_type": "code",
   "execution_count": 15,
   "metadata": {},
   "outputs": [
    {
     "name": "stdout",
     "output_type": "stream",
     "text": [
      "octavio\n"
     ]
    }
   ],
   "source": [
    "%%bash\n",
    "whoami"
   ]
  },
  {
   "cell_type": "code",
   "execution_count": 6,
   "metadata": {},
   "outputs": [
    {
     "name": "stdout",
     "output_type": "stream",
     "text": [
      "Thu Oct 15 16:26:16 CDT 2020\n"
     ]
    }
   ],
   "source": [
    "%%bash\n",
    "date"
   ]
  },
  {
   "cell_type": "markdown",
   "metadata": {},
   "source": [
    "*b) CDT significa Coordinated Universal Time (Hora universal coordinada) y UTC significa Central Daylight Time (Hora entándar del centro). No me aparece UTC porque ese horario corresponde a otra zona geográfica.*"
   ]
  },
  {
   "cell_type": "code",
   "execution_count": 8,
   "metadata": {},
   "outputs": [
    {
     "name": "stdout",
     "output_type": "stream",
     "text": [
      "Thu Oct 15 16:53:20 CDT 2020\n"
     ]
    }
   ],
   "source": [
    "%%bash\n",
    "date"
   ]
  },
  {
   "cell_type": "code",
   "execution_count": 9,
   "metadata": {},
   "outputs": [
    {
     "name": "stdout",
     "output_type": "stream",
     "text": [
      "   February 1911      \n",
      "Su Mo Tu We Th Fr Sa  \n",
      "          1  2  3  4  \n",
      " 5  6  7  8  9 10 11  \n",
      "12 13 14 15 16 17 18  \n",
      "19 20 21 22 23 24 25  \n",
      "26 27 28              \n",
      "                      \n"
     ]
    }
   ],
   "source": [
    "%%bash\n",
    "cal 02 1911"
   ]
  },
  {
   "cell_type": "markdown",
   "metadata": {},
   "source": [
    "*c) Carlos Graef nació un Sábado 25 de febrero de 1911.*"
   ]
  },
  {
   "cell_type": "code",
   "execution_count": 12,
   "metadata": {},
   "outputs": [
    {
     "name": "stdout",
     "output_type": "stream",
     "text": [
      "                         1913\n",
      "          January                     February            \n",
      " Su  Mo  Tu  We  Th  Fr  Sa   Su  Mo  Tu  We  Th  Fr  Sa  \n",
      "              1   2   3   4                           32  \n",
      "  5   6   7   8   9  10  11   33  34  35  36  37  38  39  \n",
      " 12  13  14  15  16  17  18   40  41  42  43  44  45  46  \n",
      " 19  20  21  22  23  24  25   47  48  49  50  51  52  53  \n",
      " 26  27  28  29  30  31       54  55  56  57  58  59      \n",
      "                                                          \n",
      "\n",
      "           March                        April             \n",
      " Su  Mo  Tu  We  Th  Fr  Sa   Su  Mo  Tu  We  Th  Fr  Sa  \n",
      "                         60           91  92  93  94  95  \n",
      " 61  62  63  64  65  66  67   96  97  98  99 100 101 102  \n",
      " 68  69  70  71  72  73  74  103 104 105 106 107 108 109  \n",
      " 75  76  77  78  79  80  81  110 111 112 113 114 115 116  \n",
      " 82  83  84  85  86  87  88  117 118 119 120              \n",
      " 89  90                                                   \n",
      "\n",
      "            May                         June              \n",
      " Su  Mo  Tu  We  Th  Fr  Sa   Su  Mo  Tu  We  Th  Fr  Sa  \n",
      "                121 122 123  152 153 154 155 156 157 158  \n",
      "124 125 126 127 128 129 130  159 160 161 162 163 164 165  \n",
      "131 132 133 134 135 136 137  166 167 168 169 170 171 172  \n",
      "138 139 140 141 142 143 144  173 174 175 176 177 178 179  \n",
      "145 146 147 148 149 150 151  180 181                      \n",
      "                                                          \n",
      "\n",
      "           July                        August             \n",
      " Su  Mo  Tu  We  Th  Fr  Sa   Su  Mo  Tu  We  Th  Fr  Sa  \n",
      "        182 183 184 185 186                      213 214  \n",
      "187 188 189 190 191 192 193  215 216 217 218 219 220 221  \n",
      "194 195 196 197 198 199 200  222 223 224 225 226 227 228  \n",
      "201 202 203 204 205 206 207  229 230 231 232 233 234 235  \n",
      "208 209 210 211 212          236 237 238 239 240 241 242  \n",
      "                             243                          \n",
      "\n",
      "         September                     October            \n",
      " Su  Mo  Tu  We  Th  Fr  Sa   Su  Mo  Tu  We  Th  Fr  Sa  \n",
      "    244 245 246 247 248 249              274 275 276 277  \n",
      "250 251 252 253 254 255 256  278 279 280 281 282 283 284  \n",
      "257 258 259 260 261 262 263  285 286 287 288 289 290 291  \n",
      "264 265 266 267 268 269 270  292 293 294 295 296 297 298  \n",
      "271 272 273                  299 300 301 302 303 304      \n",
      "                                                          \n",
      "\n",
      "         November                     December            \n",
      " Su  Mo  Tu  We  Th  Fr  Sa   Su  Mo  Tu  We  Th  Fr  Sa  \n",
      "                        305      335 336 337 338 339 340  \n",
      "306 307 308 309 310 311 312  341 342 343 344 345 346 347  \n",
      "313 314 315 316 317 318 319  348 349 350 351 352 353 354  \n",
      "320 321 322 323 324 325 326  355 356 357 358 359 360 361  \n",
      "327 328 329 330 331 332 333  362 363 364 365              \n",
      "334                                                       \n"
     ]
    }
   ],
   "source": [
    "%%bash\n",
    "cal -j 1913"
   ]
  },
  {
   "cell_type": "code",
   "execution_count": 14,
   "metadata": {},
   "outputs": [
    {
     "name": "stdout",
     "output_type": "stream",
     "text": [
      "     July 1913        \n",
      "Su Mo Tu We Th Fr Sa  \n",
      "       1  2  3  4  5  \n",
      " 6  7  8  9 10 11 12  \n",
      "13 14 15 16 17 18 19  \n",
      "20 21 22 23 24 25 26  \n",
      "27 28 29 30 31        \n",
      "                      \n"
     ]
    }
   ],
   "source": [
    "%%bash\n",
    "cal 07 1913"
   ]
  },
  {
   "cell_type": "markdown",
   "metadata": {},
   "source": [
    "*d) Si observamos ambos calendarios, podemos deducir que Alberto Barajas nació un jueves 17 de julio de 1913, el centésimo nonagésimo octavo día del año 1913.*"
   ]
  },
  {
   "cell_type": "code",
   "execution_count": 16,
   "metadata": {},
   "outputs": [
    {
     "name": "stdout",
     "output_type": "stream",
     "text": [
      "Linux DESKTOP-0QHVNJK 4.4.0-19041-Microsoft #488-Microsoft Mon Sep 01 13:43:00 PST 2020 x86_64 x86_64 x86_64 GNU/Linux\n"
     ]
    }
   ],
   "source": [
    "%%bash\n",
    "uname -a"
   ]
  },
  {
   "cell_type": "code",
   "execution_count": 17,
   "metadata": {},
   "outputs": [
    {
     "name": "stdout",
     "output_type": "stream",
     "text": [
      "4.4.0-19041-Microsoft\n"
     ]
    }
   ],
   "source": [
    "%%bash\n",
    "uname -r"
   ]
  },
  {
   "cell_type": "markdown",
   "metadata": {},
   "source": [
    "*e) Mi versión de Linux es 4.4.0*"
   ]
  },
  {
   "cell_type": "markdown",
   "metadata": {},
   "source": [
    "**2. MANEJO E INFORMACIÓN DE DIRECTORIOS Y ARCHIVOS**"
   ]
  },
  {
   "cell_type": "markdown",
   "metadata": {},
   "source": [
    "*a) ¿En qué directorio me encuentro?*"
   ]
  },
  {
   "cell_type": "code",
   "execution_count": 6,
   "metadata": {},
   "outputs": [
    {
     "data": {
      "text/plain": [
       "'C:\\\\Users\\\\octav\\\\Documents\\\\COMPUTACIÓN'"
      ]
     },
     "execution_count": 6,
     "metadata": {},
     "output_type": "execute_result"
    }
   ],
   "source": [
    "pwd"
   ]
  },
  {
   "cell_type": "markdown",
   "metadata": {},
   "source": [
    "*b) Crear un directorio con mi nombre.*"
   ]
  },
  {
   "cell_type": "code",
   "execution_count": 7,
   "metadata": {},
   "outputs": [],
   "source": [
    "mkdir octaviosaucedo"
   ]
  },
  {
   "cell_type": "markdown",
   "metadata": {},
   "source": [
    "comprobación:"
   ]
  },
  {
   "cell_type": "code",
   "execution_count": 13,
   "metadata": {},
   "outputs": [
    {
     "name": "stdout",
     "output_type": "stream",
     "text": [
      "C:\\Users\\octav\\Documents\\COMPUTACIÓN\n"
     ]
    }
   ],
   "source": [
    "cd .."
   ]
  },
  {
   "cell_type": "code",
   "execution_count": 15,
   "metadata": {},
   "outputs": [
    {
     "name": "stdout",
     "output_type": "stream",
     "text": [
      "Computacion2020-8093\n",
      "Repositorio github\n",
      "octaviosaucedo\n"
     ]
    }
   ],
   "source": [
    "%%bash\n",
    "ls"
   ]
  },
  {
   "cell_type": "markdown",
   "metadata": {},
   "source": [
    "*c) Crear otros dos directorios dentro del anterior.*"
   ]
  },
  {
   "cell_type": "code",
   "execution_count": 16,
   "metadata": {},
   "outputs": [
    {
     "name": "stdout",
     "output_type": "stream",
     "text": [
      "C:\\Users\\octav\\Documents\\COMPUTACIÓN\\octaviosaucedo\n"
     ]
    }
   ],
   "source": [
    "cd octaviosaucedo/"
   ]
  },
  {
   "cell_type": "code",
   "execution_count": 18,
   "metadata": {},
   "outputs": [],
   "source": [
    "mkdir saucedo avila"
   ]
  },
  {
   "cell_type": "markdown",
   "metadata": {},
   "source": [
    "comprobación:"
   ]
  },
  {
   "cell_type": "code",
   "execution_count": 20,
   "metadata": {},
   "outputs": [
    {
     "name": "stdout",
     "output_type": "stream",
     "text": [
      "C:\\Users\\octav\\Documents\\COMPUTACIÓN\\octaviosaucedo\n"
     ]
    }
   ],
   "source": [
    "cd octaviosaucedo/"
   ]
  },
  {
   "cell_type": "code",
   "execution_count": 21,
   "metadata": {},
   "outputs": [
    {
     "name": "stdout",
     "output_type": "stream",
     "text": [
      "avila\n",
      "saucedo\n"
     ]
    }
   ],
   "source": [
    "%%bash\n",
    "ls"
   ]
  },
  {
   "cell_type": "markdown",
   "metadata": {},
   "source": [
    "*d) Dentro de cada uno de los directorios anteriores, crear un archivo con \"touch\".*"
   ]
  },
  {
   "cell_type": "code",
   "execution_count": 43,
   "metadata": {},
   "outputs": [
    {
     "data": {
      "text/plain": [
       "'C:\\\\Users\\\\octav\\\\Documents\\\\COMPUTACIÓN\\\\octaviosaucedo\\\\avila'"
      ]
     },
     "execution_count": 43,
     "metadata": {},
     "output_type": "execute_result"
    }
   ],
   "source": [
    "pwd"
   ]
  },
  {
   "cell_type": "code",
   "execution_count": 44,
   "metadata": {},
   "outputs": [],
   "source": [
    "%%bash\n",
    "touch archivo1"
   ]
  },
  {
   "cell_type": "code",
   "execution_count": 45,
   "metadata": {},
   "outputs": [
    {
     "name": "stdout",
     "output_type": "stream",
     "text": [
      "C:\\Users\\octav\\Documents\\COMPUTACIÓN\\octaviosaucedo\n"
     ]
    }
   ],
   "source": [
    "cd .."
   ]
  },
  {
   "cell_type": "markdown",
   "metadata": {},
   "source": [
    "*e) Ahora creamos el que inicia con \".\"*"
   ]
  },
  {
   "cell_type": "code",
   "execution_count": 46,
   "metadata": {},
   "outputs": [
    {
     "name": "stdout",
     "output_type": "stream",
     "text": [
      "C:\\Users\\octav\\Documents\\COMPUTACIÓN\\octaviosaucedo\\saucedo\n"
     ]
    }
   ],
   "source": [
    "cd saucedo/"
   ]
  },
  {
   "cell_type": "code",
   "execution_count": 54,
   "metadata": {},
   "outputs": [],
   "source": [
    "%%bash\n",
    "touch .archivo2"
   ]
  },
  {
   "cell_type": "markdown",
   "metadata": {},
   "source": [
    "comprobación:"
   ]
  },
  {
   "cell_type": "code",
   "execution_count": 55,
   "metadata": {},
   "outputs": [
    {
     "name": "stdout",
     "output_type": "stream",
     "text": [
      "C:\\Users\\octav\\Documents\\COMPUTACIÓN\\octaviosaucedo\n"
     ]
    }
   ],
   "source": [
    "cd .."
   ]
  },
  {
   "cell_type": "code",
   "execution_count": 56,
   "metadata": {},
   "outputs": [
    {
     "name": "stdout",
     "output_type": "stream",
     "text": [
      "C:\\Users\\octav\\Documents\\COMPUTACIÓN\\octaviosaucedo\\avila\n"
     ]
    }
   ],
   "source": [
    "cd avila/"
   ]
  },
  {
   "cell_type": "code",
   "execution_count": 57,
   "metadata": {},
   "outputs": [
    {
     "name": "stdout",
     "output_type": "stream",
     "text": [
      "archivo1\n"
     ]
    }
   ],
   "source": [
    "%%bash\n",
    "ls"
   ]
  },
  {
   "cell_type": "code",
   "execution_count": 58,
   "metadata": {},
   "outputs": [
    {
     "name": "stdout",
     "output_type": "stream",
     "text": [
      "C:\\Users\\octav\\Documents\\COMPUTACIÓN\\octaviosaucedo\n"
     ]
    }
   ],
   "source": [
    "cd .."
   ]
  },
  {
   "cell_type": "code",
   "execution_count": 59,
   "metadata": {},
   "outputs": [
    {
     "name": "stdout",
     "output_type": "stream",
     "text": [
      "C:\\Users\\octav\\Documents\\COMPUTACIÓN\\octaviosaucedo\\saucedo\n"
     ]
    }
   ],
   "source": [
    "cd saucedo/"
   ]
  },
  {
   "cell_type": "code",
   "execution_count": 60,
   "metadata": {},
   "outputs": [],
   "source": [
    "%%bash\n",
    "ls"
   ]
  },
  {
   "cell_type": "markdown",
   "metadata": {},
   "source": [
    "en el directorio \"saucedo\" no está visible el archivo que creamos antes"
   ]
  },
  {
   "cell_type": "markdown",
   "metadata": {},
   "source": [
    "*f) ¿Qué sucede al ejecutar \"cd ~\"?*"
   ]
  },
  {
   "cell_type": "code",
   "execution_count": 61,
   "metadata": {},
   "outputs": [
    {
     "name": "stdout",
     "output_type": "stream",
     "text": [
      "C:\\Users\\octav\n"
     ]
    }
   ],
   "source": [
    "cd ~"
   ]
  },
  {
   "cell_type": "markdown",
   "metadata": {},
   "source": [
    "Al parecer, el comando \"cd ~\" devuelve la ruta hacia nuestro usuario principal"
   ]
  },
  {
   "cell_type": "markdown",
   "metadata": {},
   "source": [
    "*g) Dentro de la carpeta con nuestro nombre, ejecutar \"ls -R\".*"
   ]
  },
  {
   "cell_type": "code",
   "execution_count": 62,
   "metadata": {},
   "outputs": [
    {
     "name": "stdout",
     "output_type": "stream",
     "text": [
      "C:\\Users\\octav\\Documents\\COMPUTACIÓN\\octaviosaucedo\n"
     ]
    }
   ],
   "source": [
    "cd Documents/COMPUTACIÓN/octaviosaucedo/"
   ]
  },
  {
   "cell_type": "code",
   "execution_count": 63,
   "metadata": {},
   "outputs": [
    {
     "name": "stdout",
     "output_type": "stream",
     "text": [
      ".:\n",
      "avila\n",
      "saucedo\n",
      "\n",
      "./avila:\n",
      "archivo1\n",
      "\n",
      "./saucedo:\n"
     ]
    }
   ],
   "source": [
    "%%bash\n",
    "ls -R"
   ]
  },
  {
   "cell_type": "markdown",
   "metadata": {},
   "source": [
    "El comando \"ls -R\" muestra un listado en forma recursiva, es decir lista el contenido de directorios y subdirectorios a partir de la ruta donde le indiquemos."
   ]
  },
  {
   "cell_type": "markdown",
   "metadata": {},
   "source": [
    "*h) ¿Que sucedio con el archivo que nombraste con un punto ’.’ inicial?*"
   ]
  },
  {
   "cell_type": "markdown",
   "metadata": {},
   "source": [
    "Al parecer se encuentra en estado \"oculto\""
   ]
  },
  {
   "cell_type": "markdown",
   "metadata": {},
   "source": [
    "*i) ¿Qué opción debería usar para ver el archivo que nombré con un punto ’.’ inicial?*"
   ]
  },
  {
   "cell_type": "code",
   "execution_count": 67,
   "metadata": {},
   "outputs": [
    {
     "name": "stdout",
     "output_type": "stream",
     "text": [
      "C:\\Users\\octav\\Documents\\COMPUTACIÓN\\octaviosaucedo\\saucedo\n"
     ]
    }
   ],
   "source": [
    "cd saucedo/"
   ]
  },
  {
   "cell_type": "code",
   "execution_count": 73,
   "metadata": {},
   "outputs": [
    {
     "name": "stdout",
     "output_type": "stream",
     "text": [
      ".\n",
      "..\n",
      ".archivo2\n",
      ".ipynb_checkpoints\n"
     ]
    }
   ],
   "source": [
    "%%bash\n",
    "ls -a"
   ]
  },
  {
   "cell_type": "markdown",
   "metadata": {},
   "source": [
    "El comando \"ls -a\" muestra todo el contenido del directorio, incluyendo los archivos y directorios ocultos."
   ]
  }
 ],
 "metadata": {
  "kernelspec": {
   "display_name": "Python 3",
   "language": "python",
   "name": "python3"
  },
  "language_info": {
   "codemirror_mode": {
    "name": "ipython",
    "version": 3
   },
   "file_extension": ".py",
   "mimetype": "text/x-python",
   "name": "python",
   "nbconvert_exporter": "python",
   "pygments_lexer": "ipython3",
   "version": "3.8.3"
  }
 },
 "nbformat": 4,
 "nbformat_minor": 4
}
