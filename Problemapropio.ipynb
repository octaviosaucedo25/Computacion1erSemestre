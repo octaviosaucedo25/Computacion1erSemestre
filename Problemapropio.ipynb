{
 "cells": [
  {
   "cell_type": "markdown",
   "metadata": {},
   "source": [
    "# INTRODUCCIÓN A PYTHON\n",
    "\n",
    "Sergio A. Alcalá Corona <br>\n",
    "Sergio A. Sánchez Chávez\n",
    "\n",
    "---\n",
    "---"
   ]
  },
  {
   "cell_type": "markdown",
   "metadata": {},
   "source": [
    "Octavio Saucedo Avila"
   ]
  },
  {
   "cell_type": "markdown",
   "metadata": {},
   "source": [
    "# Algoritmos Computacionales\n",
    "\n",
    "## Potencia de un número complejo\n",
    "\n",
    "A continuación se expone la resolución del problema que yo mismo propuse:\n",
    "\n",
    "Escribir un algortimo que calcule la n-ésima potencia de un número complejo de la forma $z=(r,\\theta)$. Utilizar el Teorema de Moivre:\n",
    "$$z^{n}=r^{n}[cos(n\\theta)+isen(n\\theta)] \\ ;n \\geq 2, n \\in \\mathbb{N}$$\n",
    "---\n",
    "**Indicaciones**:\n",
    "1. Introducir el valor del módulo de z, es decir, el valor de $r \\in \\mathbb{R}$.\n",
    "2. Introducir el valor del ángulo de z escrito en grados sexagesimales, es decir, $\\theta \\in \\mathbb{R}$.\n",
    "3. Introducir el valor de la potencia a la cual se quiere elevar el número complejo $z=(r,\\theta)$.\n",
    "\n",
    "Nótese que la interpretación total de la gráfica tanto de $z$ como de $z^{n}$ depende del valor y signo que le demos al ángulo $\\theta$.\n",
    "\n",
    "**Algoritmo y ejemplo:**"
   ]
  },
  {
   "cell_type": "code",
   "execution_count": 17,
   "metadata": {},
   "outputs": [],
   "source": [
    "from numpy import *\n",
    "from scipy import *\n",
    "import math\n",
    "import numpy as np"
   ]
  },
  {
   "cell_type": "code",
   "execution_count": 16,
   "metadata": {},
   "outputs": [
    {
     "name": "stdin",
     "output_type": "stream",
     "text": [
      "Introduce el valor del módulo de z:  3.5\n",
      "Introduce el valor del ángulo de z en grados:  120\n",
      "¿A qué potencia será elevado z?:  -2\n"
     ]
    },
    {
     "name": "stdout",
     "output_type": "stream",
     "text": [
      "El número complejo (3.5, 120.0) elevado a la potencia -2 es igual a (-0.04081632653061224+0.0706938775510204j)\n"
     ]
    }
   ],
   "source": [
    "r = float(input('Introduce el valor del módulo de z: '))\n",
    "t = float(input('Introduce el valor del ángulo de z en grados: '))\n",
    "t2 = math.radians(t)\n",
    "n = int(input('¿A qué potencia será elevado z?: '))\n",
    "z = (r,t)\n",
    "i = 0 + 1j\n",
    "potenciadez = math.pow(r,n)*(np.round(math.cos(n*t2), decimals = 4) + i*np.round(math.sin(n*t2), decimals = 4))\n",
    "\n",
    "print(\"El número complejo\",z,\"elevado a la potencia\",n,\"es igual a\",potenciadez)"
   ]
  },
  {
   "cell_type": "code",
   "execution_count": 2,
   "metadata": {},
   "outputs": [
    {
     "name": "stdin",
     "output_type": "stream",
     "text": [
      "Ingresa el valor del ángulo en grados sexagesimales:  100\n",
      "Ingresa el valor de r, es decir, el módulo del número complejo:  676\n",
      "Ingresa la potencia n:  6\n"
     ]
    },
    {
     "name": "stdout",
     "output_type": "stream",
     "text": [
      "El número complejo ingresado, elevado a la potencia 6 es igual a (-4.771447833084109e+16-8.26443393377166e+16j)\n"
     ]
    }
   ],
   "source": [
    "import math\n",
    "import numpy as np\n",
    "from numpy import *\n",
    "from scipy import *\n",
    "\n",
    "i = 0 + 1j\n",
    "theta = float(input('Ingresa el valor del ángulo en grados sexagesimales: '))\n",
    "theta2 = math.radians(theta)\n",
    "r = float(input('Ingresa el valor de r, es decir, el módulo del número complejo: '))\n",
    "n = int(input('Ingresa la potencia n: '))\n",
    "zelevadoan = math.pow(r,n)*(np.round(math.cos(n*theta2), decimals = 5) + i*np.round(math.sin(n*theta2), decimals = 5))\n",
    "print(\"El número complejo ingresado, elevado a la potencia\",n,\"es igual a\",zelevadoan)"
   ]
  }
 ],
 "metadata": {
  "kernelspec": {
   "display_name": "Python 3",
   "language": "python",
   "name": "python3"
  },
  "language_info": {
   "codemirror_mode": {
    "name": "ipython",
    "version": 3
   },
   "file_extension": ".py",
   "mimetype": "text/x-python",
   "name": "python",
   "nbconvert_exporter": "python",
   "pygments_lexer": "ipython3",
   "version": "3.8.3"
  }
 },
 "nbformat": 4,
 "nbformat_minor": 4
}
