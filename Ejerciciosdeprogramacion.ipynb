{
 "cells": [
  {
   "cell_type": "markdown",
   "metadata": {},
   "source": [
    "# COMPUTACIÓN\n",
    "\n",
    "Sergio A. Alcalá Corona <br>\n",
    "Sergio A. Sánchez Chávez\n",
    "\n",
    "---\n",
    "---"
   ]
  },
  {
   "cell_type": "markdown",
   "metadata": {},
   "source": [
    "Octavio Saucedo Avila"
   ]
  },
  {
   "cell_type": "markdown",
   "metadata": {},
   "source": [
    "# Programación en Python\n",
    "\n",
    "## Ejercicios de Programación\n",
    "\n",
    "Escribe los siguientes programas en Python. Redactar bien cada paso tanto en el Notebook como en el código de Python."
   ]
  },
  {
   "cell_type": "code",
   "execution_count": 1,
   "metadata": {},
   "outputs": [],
   "source": [
    "# BIBLIOTECAS \n",
    "from random import randint\n",
    "from math import *\n",
    "import numpy as np\n",
    "from IPython.display import Image\n",
    "import matplotlib.pyplot as plt"
   ]
  },
  {
   "cell_type": "markdown",
   "metadata": {},
   "source": [
    "1. a) Calcular el promedio de dos números $a$ y $b$ introducidos por el usuario."
   ]
  },
  {
   "cell_type": "markdown",
   "metadata": {},
   "source": [
    "**Procedimiento**: <br>\n",
    "1. Definimos los valores de $a$ y $b$ preguntándoselo al usuario mediante *input*.\n",
    "2. Imprimimos en pantalla la operación matemática que define al promedio de dos números."
   ]
  },
  {
   "cell_type": "markdown",
   "metadata": {},
   "source": [
    "**Código:**"
   ]
  },
  {
   "cell_type": "code",
   "execution_count": 1,
   "metadata": {},
   "outputs": [
    {
     "name": "stdin",
     "output_type": "stream",
     "text": [
      "Introduce el valor de a:  98729874\n",
      "Introduce el valor de b:  97296742\n"
     ]
    },
    {
     "name": "stdout",
     "output_type": "stream",
     "text": [
      "El promedio de los números 98729874.0 y 97296742.0 es 98013308.0\n"
     ]
    }
   ],
   "source": [
    "a = float(input('Introduce el valor de a: ')) # Definimos el valor de a como un flotante que ingresará el usuario.\n",
    "b = float(input('Introduce el valor de b: ')) # Definimos el valor de b de la misma forma que a.\n",
    "promedio = (a+b)/2 # Establecemos la operación matemática del promedio entre a y b.\n",
    "print(\"El promedio de los números\",a,\"y\",b,\"es\",promedio) # Mostramos en pantalla el reusltado de la operación."
   ]
  },
  {
   "cell_type": "markdown",
   "metadata": {},
   "source": [
    "**Ejemplo:** <br>\n",
    "Introduce el valor de a:  10 <br>\n",
    "Introduce el valor de b:  5 <br>\n",
    "El promedio de los números 10.0 y 5.0 es 7.5"
   ]
  },
  {
   "cell_type": "markdown",
   "metadata": {},
   "source": [
    "1. b) La suma desde $1$ hasta un número $n$ introducido por el usuario. $$\\sum_{i=1}^{n} i = \\frac{n(n+1)}{2}$$"
   ]
  },
  {
   "cell_type": "markdown",
   "metadata": {},
   "source": [
    "**Procedimiento**: <br>\n",
    "1. Definimos el valor de $n$ preguntándoselo al usuario mediante *input*. Nótese que $n$ debe ser un número entero positivo.\n",
    "2. Definimos la operación matemática *sumatoria* utilizando la fórmula de Gauss, añadiendo la reestricción para n<0.\n",
    "3. Imprimimos en pantalla el resultado de realizar la sumatoria."
   ]
  },
  {
   "cell_type": "markdown",
   "metadata": {},
   "source": [
    "**Código:**"
   ]
  },
  {
   "cell_type": "code",
   "execution_count": 4,
   "metadata": {},
   "outputs": [
    {
     "name": "stdin",
     "output_type": "stream",
     "text": [
      "Introduce el valor de n:  -4\n"
     ]
    }
   ],
   "source": [
    "n = int(input('Introduce el valor de n: ')) #Definimos el valor de n como un entero positivo.\n",
    "def sumatoria(n):      # Se define la operación sumatoria utilizando la fórmula correspondiente.\n",
    "    if n<0:     # Aplicamos la reestricción para un n<0.\n",
    "        return \"resultado indeterminado, n debe ser un entero mayor o igual que cero\"\n",
    "    else:\n",
    "        return (n*(n+1))/2\n",
    "print(\"La suma desde 1 hasta\",n,\"es igual a\",sumatoria(n)) # Mostramos en pantalla el resultado de la suma."
   ]
  },
  {
   "cell_type": "markdown",
   "metadata": {},
   "source": [
    "**Ejemplos:** <br>\n",
    "Introduce el valor de n:  100 <br>\n",
    "La suma desde 1 hasta 100 es igual a 5050.0  <br>\n",
    " <br>\n",
    "Introduce el valor de n:  -5  <br>\n",
    "La suma desde 1 hasta -5 es igual a resultado indeterminado, n debe ser un entero mayor o igual que cero"
   ]
  },
  {
   "cell_type": "markdown",
   "metadata": {},
   "source": [
    "1. c) Calcular el factorial de un número introducido por el usuario. $n!=n \\cdot (n-1) \\cdot (n-2) \\cdot \\cdot \\cdot 2 \\cdot 1 \\ ;\\forall n \\in \\mathbb{N_0}$"
   ]
  },
  {
   "cell_type": "markdown",
   "metadata": {},
   "source": [
    "**Procedimiento**: <br>\n",
    "1. Definimos el valor de $n$ preguntándoselo al usuario mediante *input*. Nótese que $n$ debe ser un número entero mayor o igual a cero.\n",
    "2. Definimos la operación *factorial de n* ($n!$) incluyendo la restricción para $n<0$ y la definición para $n=0$.\n",
    "3. Imprimimos en pantalla el resultado de la operación factorial(n)."
   ]
  },
  {
   "cell_type": "code",
   "execution_count": 3,
   "metadata": {},
   "outputs": [
    {
     "name": "stdin",
     "output_type": "stream",
     "text": [
      "Introduce el valor de n:  5\n"
     ]
    },
    {
     "name": "stdout",
     "output_type": "stream",
     "text": [
      "El factorial de 5 es 120\n"
     ]
    }
   ],
   "source": [
    "n = int(input('Introduce el valor de n: ')) # Definimos el valor de n como un entero mayor o igual que cero.\n",
    "def factorial(n):\n",
    "    if n==0:   # Por definición, el factorial de 0 es 1.\n",
    "        return 1\n",
    "    elif n<0:       # Reestricción para n<0.\n",
    "        return \"resultado indeterminado, el factorial no está definido para valores negativos.\"  # Definimos la operación factorial utilizando un \"if, elif, else\".\n",
    "    else: \n",
    "        return n * factorial(n-1)   # Pues n!=n(n-1)(n-2)***2*1\n",
    "print(\"El factorial de\",n,\"es\",factorial(n))  # Mostramos en pantalla el resultado de calcular dicho factorial."
   ]
  },
  {
   "cell_type": "markdown",
   "metadata": {},
   "source": [
    "**Ejemplos:** <br>\n",
    "Introduce el valor de n:  5 <br>\n",
    "El factorial de 5 es 120 <br>\n",
    "<br>\n",
    "Introduce el valor de n:  -2 <br>\n",
    "El factorial de -2 es resultado indeterminado, el factorial no está definido para valores negativos."
   ]
  },
  {
   "cell_type": "markdown",
   "metadata": {},
   "source": [
    "1. d) Calcular la potencia de un número $a$ (introducido por el usuario) a la potencia $b$ (también introducida por el usuario). $c=a^{b}$"
   ]
  },
  {
   "cell_type": "markdown",
   "metadata": {},
   "source": [
    "**Procedimiento:** <br>\n",
    "1. Definimos los valores de $a$ y $b$ preguntándoselo al usuario mediante *input*. Nótese que los números pueden ser enteros; sin embargo, $a$ y $b$ no pueden ser cero al mismo tiempo, ya que esto genera un resultado indeterminado.\n",
    "2. Definimos la operación matemática $a^{b}$ estableciendo la restricción de que si ambos son cero, el resultado es indeterminado.\n",
    "3. Mediante un *ciclo for*, multiplicamos la base $a$ tantas veces como diga el exponente $b$.\n",
    "3. Imprimimos en pantalla el resultado de realizar la potencia indicada según los valores de $a$ y $b$."
   ]
  },
  {
   "cell_type": "code",
   "execution_count": 13,
   "metadata": {},
   "outputs": [
    {
     "data": {
      "text/plain": [
       "4.0"
      ]
     },
     "execution_count": 13,
     "metadata": {},
     "output_type": "execute_result"
    }
   ],
   "source": [
    "math.pow(2,2)"
   ]
  },
  {
   "cell_type": "markdown",
   "metadata": {},
   "source": [
    "**Código:**"
   ]
  },
  {
   "cell_type": "code",
   "execution_count": 4,
   "metadata": {},
   "outputs": [
    {
     "name": "stdin",
     "output_type": "stream",
     "text": [
      "Introduce el valor de a:  3\n",
      "Introduce el valor de b:  4\n"
     ]
    },
    {
     "name": "stdout",
     "output_type": "stream",
     "text": [
      "El número 3 elevado a la potencia 4 es 81\n"
     ]
    }
   ],
   "source": [
    "a = int(input('Introduce el valor de a: ')) # Definimos el valor de a como un flotante que ingresará el usuario.\n",
    "b = int(input('Introduce el valor de b: ')) # Definimos el valor de b de la misma forma que a.\n",
    "def potencia(a,b):             #Definimos la función potencia(a,b)\n",
    "    if a==0 and b==0:\n",
    "        return \"Resultado indeterminado\"  # Aplicamos la restricción para base y exponente iguales.\n",
    "    resultado = 1    # En la variable \"resultado\" se guardarán los productos de a tantas veces como diga b.\n",
    "    for i in range(b):\n",
    "        resultado *= a    # Ciclo for: dentro de un rango del exponente, multiplicamos la base tantas veces como diga el exponente.\n",
    "    return resultado\n",
    "print(\"El número\",a,\"elevado a la potencia\",b,\"es\",potencia(a,b))  # Mostramos en pantalla el resultado de la operación."
   ]
  },
  {
   "cell_type": "markdown",
   "metadata": {},
   "source": [
    "**Ejemplos:** <br>\n",
    "Introduce el valor de a:  0 <br>\n",
    "Introduce el valor de b:  0 <br>\n",
    "Resultado indeterminado <br>\n",
    "<br>\n",
    "Introduce el valor de a:  5 <br>\n",
    "Introduce el valor de b:  6 <br>\n",
    "El número 5 elevado a la potencia 6 es 15625"
   ]
  },
  {
   "cell_type": "markdown",
   "metadata": {},
   "source": [
    "2. Calcular la combinatoria de $n$, en $r$. Apóyate en la siguiente expresión: <br>\n",
    "$$C_{n,r}=\\frac{n!}{r!(n-r)!}$$\n",
    "Nótese que tanto $n$ como $r$ deben de ser números naturales incluyendo al cero."
   ]
  },
  {
   "cell_type": "code",
   "execution_count": null,
   "metadata": {},
   "outputs": [],
   "source": [
    "n = int(input('Introduce el valor de n: ')) # Definimos el valor de a como un entero que ingresará el usuario.\n",
    "r = int(input('Introduce el valor de r: ')) # Definimos el valor de b de la misma forma que a.\n",
    "def combinatoria(n,r):\n",
    "    if n<0 or r<0:     # Reestricción para números negativos.\n",
    "        return \"resultado indeterminado. Tanto n como r deben de ser mayores o iguales que cero, por definición de factorial.\"\n",
    "    elif r>n:   # Reestricción para r>n, pues quedaría indeterminado un factorial.\n",
    "        return \"resultado indeterminado. Si r>n entonces n-r<0, por lo que el factorial queda indeterminado.\"\n",
    "    else:\n",
    "        return (factorial(n))/((factorial(r))*(factorial(n-r)))  # Fórmula de la combinatoria de n en r.\n",
    "print(\"El número de formas para elegir\",r,\"elementos de un conjunto de\",n,\"elementos es\",combinatoria(n,r)) #Mostramos en pantalla el resultado de la operación."
   ]
  },
  {
   "cell_type": "markdown",
   "metadata": {},
   "source": [
    "**Ejemplos:** <br>\n",
    "Introduce el valor de n:  -2  <br>\n",
    "Introduce el valor de r:  5  <br>\n",
    "El número de formas para elegir 5 elementos de un conjunto de -2 elementos es resultado indeterminado. Tanto n como r deben de ser mayores o iguales que cero, por definición de factorial.  <br>\n",
    "<br>\n",
    "Introduce el valor de n:  7  <br>\n",
    "Introduce el valor de r:  3  <br>\n",
    "El número de formas para elegir 3 elementos de un conjunto de 7 elementos es 35.0"
   ]
  },
  {
   "cell_type": "markdown",
   "metadata": {},
   "source": [
    "3. De acuerdo con la siguiente serie <br>\n",
    "$$ \\sum_{n=0}^{\\infty} \\frac{(-1)^{n}}{2n+1} = \\frac{\\pi}{4} $$ <br>\n",
    "Escribe un programa que calcule diferentes aproximaciones de $\\pi$ para diferentes valores de $n$."
   ]
  },
  {
   "cell_type": "markdown",
   "metadata": {},
   "source": [
    "**Procedimiento:** <br>\n",
    "1. El usuario ingresa un número entero positivo n.\n",
    "2. Si n es mayor que cero, establecemos la variable \"suma\" en donde iremos guardando todos los sumandos.\n",
    "3. Establecemos un ciclo *for* para la varibale i dentro de  un rango desde 0 hasta n, es decir, *range(0, n+1)*.\n",
    "4. Añadimos todos los sumandos a la variable \"suma\" con ayuda de *suma +=*.\n",
    "5. Mostramos en pantalla el resultado de la suma.\n",
    "6. Definimos el caso cuando $n$ no es mayor que cero.\n",
    "**Extra**: <br>\n",
    "7. Para que el usuario ingrese un número correcto y no tenga que ejecutar varias veces el programa, hacemos lo siguiente: <br>\n",
    "i) Definimos una variable booleana con valor inicial True. <br>\n",
    "ii) Mediante un ciclo *while*, mientras \"comprobar\" = \"True\" se ejecutará todo el código. Para ello, seleccionamos el resto del programa y con ayuda del tabulador lo ingresamos dentro del ciclo *while*. <br>\n",
    "iii) Hasta este punto, *while* hace lo que queríamos; sin embargo, el programa sigue ejecutándose continuamente. <br>\n",
    "iv) Para detener la ejecución cuando $n>0$, escribimos *comprobar = False* antes de ejecutar la parte para $n>0$; así, ya no se repetirá de nuevo el programa porque \"comprobar\" es Falso, y el ciclo *while* se repite sólo cuando \"comprobar\" es Verdadero. <br>\n"
   ]
  },
  {
   "cell_type": "markdown",
   "metadata": {},
   "source": [
    "**Código:**"
   ]
  },
  {
   "cell_type": "code",
   "execution_count": 2,
   "metadata": {},
   "outputs": [
    {
     "name": "stdin",
     "output_type": "stream",
     "text": [
      "Introduce un número entero positivo:  1000\n"
     ]
    },
    {
     "ename": "NameError",
     "evalue": "name 'potencia' is not defined",
     "output_type": "error",
     "traceback": [
      "\u001b[1;31m---------------------------------------------------------------------------\u001b[0m",
      "\u001b[1;31mNameError\u001b[0m                                 Traceback (most recent call last)",
      "\u001b[1;32m<ipython-input-2-721550077e28>\u001b[0m in \u001b[0;36m<module>\u001b[1;34m\u001b[0m\n\u001b[0;32m      7\u001b[0m         \u001b[0msuma\u001b[0m \u001b[1;33m=\u001b[0m \u001b[1;36m0\u001b[0m  \u001b[1;31m# Aquí guardaremos los sumandos.\u001b[0m\u001b[1;33m\u001b[0m\u001b[1;33m\u001b[0m\u001b[0m\n\u001b[0;32m      8\u001b[0m         \u001b[1;32mfor\u001b[0m \u001b[0mi\u001b[0m \u001b[1;32min\u001b[0m \u001b[0mrange\u001b[0m\u001b[1;33m(\u001b[0m\u001b[1;36m0\u001b[0m\u001b[1;33m,\u001b[0m\u001b[0mn\u001b[0m\u001b[1;33m+\u001b[0m\u001b[1;36m1\u001b[0m\u001b[1;33m)\u001b[0m\u001b[1;33m:\u001b[0m        \u001b[1;31m# Ciclo for para un rango desde 0 hasta n.\u001b[0m\u001b[1;33m\u001b[0m\u001b[1;33m\u001b[0m\u001b[0m\n\u001b[1;32m----> 9\u001b[1;33m             \u001b[0msuma\u001b[0m \u001b[1;33m+=\u001b[0m \u001b[0mfloat\u001b[0m\u001b[1;33m(\u001b[0m\u001b[1;36m4\u001b[0m\u001b[1;33m*\u001b[0m\u001b[1;33m(\u001b[0m\u001b[1;33m(\u001b[0m\u001b[0mpotencia\u001b[0m\u001b[1;33m(\u001b[0m\u001b[1;33m-\u001b[0m\u001b[1;36m1\u001b[0m\u001b[1;33m,\u001b[0m\u001b[0mi\u001b[0m\u001b[1;33m)\u001b[0m\u001b[1;33m)\u001b[0m \u001b[1;33m/\u001b[0m \u001b[1;33m(\u001b[0m\u001b[1;36m2\u001b[0m\u001b[1;33m*\u001b[0m\u001b[0mi\u001b[0m\u001b[1;33m+\u001b[0m\u001b[1;36m1\u001b[0m\u001b[1;33m)\u001b[0m\u001b[1;33m)\u001b[0m\u001b[1;33m)\u001b[0m  \u001b[1;31m# Escribimos la expresión de la suma como un flotante y no olvidemos multiplicar todo por 4, para obtener el valor de pi.\u001b[0m\u001b[1;33m\u001b[0m\u001b[1;33m\u001b[0m\u001b[0m\n\u001b[0m\u001b[0;32m     10\u001b[0m                             \u001b[1;31m# Nótese que se usó la función potencia definida anteriormente.\u001b[0m\u001b[1;33m\u001b[0m\u001b[1;33m\u001b[0m\u001b[1;33m\u001b[0m\u001b[0m\n\u001b[0;32m     11\u001b[0m         \u001b[0mprint\u001b[0m\u001b[1;33m(\u001b[0m\u001b[1;34m\"La aproximación obtenida para un n=\"\u001b[0m\u001b[1;33m,\u001b[0m\u001b[0mn\u001b[0m\u001b[1;33m,\u001b[0m\u001b[1;34m\"es\"\u001b[0m\u001b[1;33m,\u001b[0m\u001b[0msuma\u001b[0m\u001b[1;33m)\u001b[0m  \u001b[1;31m# Mostramos en pantalla el resultado de la suma.\u001b[0m\u001b[1;33m\u001b[0m\u001b[1;33m\u001b[0m\u001b[0m\n",
      "\u001b[1;31mNameError\u001b[0m: name 'potencia' is not defined"
     ]
    }
   ],
   "source": [
    "comprobar = True # Esto es un extra que investigué, definimos una variable booleana con valor inicial True.\n",
    "while comprobar == True:   # Ciclo while para crear un bucle de ejecución.\n",
    "    \n",
    "    n = int(input('Introduce un número entero positivo: ')) # Definimos el valor de a como un entero que ingresará el usuario.\n",
    "    if n>0:\n",
    "        comprobar = False  # Ya no se ejecutará de nuevo todo el programa tras ingresar un entero posrivo.\n",
    "        suma = 0  # Aquí guardaremos los sumandos.\n",
    "        for i in range(0,n+1):        # Ciclo for para un rango desde 0 hasta n.\n",
    "            suma += float(4*((potencia(-1,i)) / (2*i+1)))  # Escribimos la expresión de la suma como un flotante y no olvidemos multiplicar todo por 4, para obtener el valor de pi.\n",
    "                            # Nótese que se usó la función potencia definida anteriormente.\n",
    "        print(\"La aproximación obtenida para un n=\",n,\"es\",suma)  # Mostramos en pantalla el resultado de la suma.\n",
    "        print(\"Comparar con el valor real de pi:\",math.pi) # Comparamos con el valor real de pi.\n",
    "    else:\n",
    "        print(\"El número ingresado no es correcto, intente de nuevo.\")  # Caso para n menor o igual que cero."
   ]
  },
  {
   "cell_type": "markdown",
   "metadata": {},
   "source": [
    "**Ejemplo:** <br>\n",
    "Introduce un número entero positivo:  -1000 <br>\n",
    "El número ingresado no es correcto, intente de nuevo. <br>\n",
    "Introduce un número entero positivo:  0 <br>\n",
    "El número ingresado no es correcto, intente de nuevo. <br>\n",
    "Introduce un número entero positivo:  1000 <br>\n",
    "La aproximación obtenida para un n= 1000 es 3.1425916543395442 <br>\n",
    "Comparar con el valor real de e: 3.141592653589793 <br>"
   ]
  },
  {
   "cell_type": "markdown",
   "metadata": {},
   "source": [
    "4. De acuerdo con la siguiente serie <br>\n",
    "$$ \\sum_{n=0}^{\\infty} \\frac{1}{n!} = e $$ <br>\n",
    "Escribe un programa que calcule diferentes aproximaciones de $e$ para diferentes valores de $n$."
   ]
  },
  {
   "cell_type": "markdown",
   "metadata": {},
   "source": [
    "**Procedimiento**: Nótese que será análogo al del ejercicio anterior. Lo que cambiaremos es la expresión matemática para cada sumando."
   ]
  },
  {
   "cell_type": "markdown",
   "metadata": {},
   "source": [
    "**Código:**"
   ]
  },
  {
   "cell_type": "code",
   "execution_count": 31,
   "metadata": {},
   "outputs": [
    {
     "name": "stdin",
     "output_type": "stream",
     "text": [
      "Introduce un número entero positivo:  -2\n"
     ]
    },
    {
     "name": "stdout",
     "output_type": "stream",
     "text": [
      "El número ingresado no es correcto, intente de nuevo.\n"
     ]
    },
    {
     "name": "stdin",
     "output_type": "stream",
     "text": [
      "Introduce un número entero positivo:  -3\n"
     ]
    },
    {
     "name": "stdout",
     "output_type": "stream",
     "text": [
      "El número ingresado no es correcto, intente de nuevo.\n"
     ]
    },
    {
     "name": "stdin",
     "output_type": "stream",
     "text": [
      "Introduce un número entero positivo:  1000\n"
     ]
    },
    {
     "name": "stdout",
     "output_type": "stream",
     "text": [
      "La aproximación obtenida para un n= 1000 es 2.7182818284590455\n",
      "Comparar con el valor real de e: 2.718281828459045\n"
     ]
    }
   ],
   "source": [
    "comprobar = True\n",
    "while comprobar == True:   # Ciclo while para crear un bucle de ejecución.\n",
    "    \n",
    "    \n",
    "    n = int(input('Introduce un número entero positivo: ')) # Definimos el valor de a como un entero que ingresará el usuario.\n",
    "    if n>0:\n",
    "        comprobar = False # Ya no se ejecutará de nuevo todo el programa tras ingresar un entero posrivo.\n",
    "        suma = 0  # Aquí guardaremos los sumandos.\n",
    "        for i in range(0,n+1):   # Ciclo for para un rango desde 0 hasta n.\n",
    "            suma += 1/factorial(i)  # Expresión de cada sumando.\n",
    "            e = float(suma)  # Convertimos el resultado de \"suma\" en un número flotante llamado \"e\".\n",
    "        print(\"La aproximación obtenida para un n=\",n,\"es\",e)   # Msotramos en pantalla el resultado de \"e\" que qeuivale al de \"suma\" pero como un flotante.\n",
    "        print(\"Comparar con el valor real de e:\",math.e)  # Comparamos con el valor real.\n",
    "    else:\n",
    "        print(\"El número ingresado no es correcto, intente de nuevo.\")  #Caso para un n menor o igual que cero."
   ]
  },
  {
   "cell_type": "markdown",
   "metadata": {},
   "source": [
    "**Ejemplo:** <br>\n",
    "Introduce un número entero positivo:  -600 <br>\n",
    "El número ingresado no es correcto, intente de nuevo. <br>\n",
    "Introduce un número entero positivo:  0 <br>\n",
    "El número ingresado no es correcto, intente de nuevo.<br>\n",
    "Introduce un número entero positivo:  999 <br>\n",
    "La aproximación obtenida para un n= 999 es 2.7182818284590455 <br>\n",
    "Comparar con el valor real de e: 2.718281828459045 <br>"
   ]
  },
  {
   "cell_type": "markdown",
   "metadata": {},
   "source": [
    "5. Calcular las raíces de un polinomio cuadrático. El usuario deberá proporcionar los coeficientes de la ecuación de segundo grado. El programa debe considerar los casos de raíces reales, raíz doble y raíces complejas."
   ]
  },
  {
   "cell_type": "markdown",
   "metadata": {},
   "source": [
    "**Procedimiento:**"
   ]
  },
  {
   "cell_type": "markdown",
   "metadata": {},
   "source": [
    "1. Definimos como números flotantes los tres coeficientes del polinomio cuadrático, los cuales ingresará el usuario.\n",
    "2. Se define el discriminante del polinomio.\n",
    "3. Se definen las soluciones según el signo del determinante: para $D=0$, $D>0$ y $D<0$.\n",
    "4. En cada caso se imprime en pantalla las soluciones de la ecuación cuadrática. \n",
    "<br>\n",
    "Recordemos que la fórmula general de segundo grado, la cual usaremos para definir las soluciones de la ecuación en cada caso, es la siguiente: <br>\n",
    "$$ x_{1,2} = \\frac{-b}{2a} \\pm \\frac{(b^{2}-4ac)^{\\frac{1}{2}}}{2a} $$"
   ]
  },
  {
   "cell_type": "markdown",
   "metadata": {},
   "source": [
    "**Código**:"
   ]
  },
  {
   "cell_type": "code",
   "execution_count": 35,
   "metadata": {},
   "outputs": [
    {
     "name": "stdin",
     "output_type": "stream",
     "text": [
      "Introduce el valor de a:  1\n",
      "Introduce el valor de b:  1\n",
      "Introduce el valor de c:  1\n"
     ]
    },
    {
     "name": "stdout",
     "output_type": "stream",
     "text": [
      "Las dos raíces complejas del polinomio son: ((-0.5+0.8660254037844386j), (-0.5+0.8660254037844386j))\n"
     ]
    }
   ],
   "source": [
    "a = float(input('Introduce el valor de a: ')) # Definimos los coeficientes del polinomio como flotantes que ingresará el usuario.\n",
    "b = float(input('Introduce el valor de b: ')) \n",
    "c = float(input('Introduce el valor de c: ')) \n",
    "\n",
    "# Definimos el discriminante del polinomio:\n",
    "Discriminante = D = b**2 - 4*a*c\n",
    "\n",
    "# Si el discriminante es cero, el polinomio tiene una única raíz, es decir, raíz doble.\n",
    "if D == 0:\n",
    "    x_1 = -b/2*a\n",
    "    print(\"La única raíz del polinomio es x_1=\",x_1)\n",
    "# Si el discriminante es mayor a cero, el polinomio tiene dos raíces reales.\n",
    "elif D>0:\n",
    "    x_1 = -b/2*a + math.sqrt(D)/2*a\n",
    "    x_2 = -b/2*a - math.sqrt(D)/2*a\n",
    "    print(\"Las dos raíces reales del polinomio son:\",(x_1,x_2))\n",
    "# Si el discriminante es menor a cero, el polinomio tiene dos raíces complejas.\n",
    "else:\n",
    "    x_1 = complex(-b/2*a,math.sqrt(-D)/2*a)  # Un número complejo se escribe como (a,b) y quivale a (a+bj) con j la unidad imaginaria.\n",
    "    x_2 = complex(-b/2*a,math.sqrt(-D)/2*a)  # Nótese que hacemos positivo el determinante para que la raíz cuadrada exista en el dominio matemático y luego se pueda interpretar como un complejo.\n",
    "    print(\"Las dos raíces complejas del polinomio son:\",(x_1,x_2))"
   ]
  },
  {
   "cell_type": "markdown",
   "metadata": {},
   "source": [
    "**Ejemplos:** <br>\n",
    "Introduce el valor de a:  1 <br>\n",
    "Introduce el valor de b:  13 <br>\n",
    "Introduce el valor de c:  30 <br>\n",
    "Las dos raíces reales del polinomio son: (-3.0, -10.0) <br>\n",
    "<br>\n",
    "Introduce el valor de a:  1 <br>\n",
    "Introduce el valor de b:  -6 <br>\n",
    "Introduce el valor de c:  25 <br>\n",
    "Las dos raíces complejas del polinomio son: ((3+4j), (3+4j)) <br>\n",
    "<br>\n",
    "Introduce el valor de a:  1 <br>\n",
    "Introduce el valor de b:  2 <br>\n",
    "Introduce el valor de c:  1 <br>\n",
    "La única raíz del polinomio es x_1= -1.0 <br>"
   ]
  },
  {
   "cell_type": "markdown",
   "metadata": {},
   "source": [
    "6. Escribe un programa que calcule el producto cruz de dos vectores en $\\mathbb{R^{3}}$. El usuario debe insertar las entradas de los vectores."
   ]
  },
  {
   "cell_type": "markdown",
   "metadata": {},
   "source": [
    "**Procedimiento:**"
   ]
  },
  {
   "cell_type": "markdown",
   "metadata": {},
   "source": [
    "En este caso, el propio programa habla por sí solo junto con los comentarios correspondientes. Lo que sí nos será útil aclarar fuera del código es la fórmula que se utilizó para calcular este producto cruz entre los vectores $u$ y $v$: <br>"
   ]
  },
  {
   "cell_type": "code",
   "execution_count": 88,
   "metadata": {},
   "outputs": [
    {
     "data": {
      "image/png": "[encoded data removed]",
      "text/plain": [
       "<IPython.core.display.Image object>"
      ]
     },
     "execution_count": 88,
     "metadata": {},
     "output_type": "execute_result"
    }
   ],
   "source": [
    "Image(filename='formula producto cruz.png')"
   ]
  },
  {
   "cell_type": "markdown",
   "metadata": {},
   "source": [
    "**Código:**"
   ]
  },
  {
   "cell_type": "code",
   "execution_count": 2,
   "metadata": {},
   "outputs": [
    {
     "name": "stdout",
     "output_type": "stream",
     "text": [
      "Para el primer vector, u:\n"
     ]
    },
    {
     "name": "stdin",
     "output_type": "stream",
     "text": [
      "Introduza u_1:  1\n",
      "Introduza u_2:  2\n",
      "Introduza u_3:  3\n"
     ]
    },
    {
     "name": "stdout",
     "output_type": "stream",
     "text": [
      "Para el segundo vector, v:\n"
     ]
    },
    {
     "name": "stdin",
     "output_type": "stream",
     "text": [
      "Introduza v_1:  3\n",
      "Introduza v_2:  2\n",
      "Introduza v_3:  1\n"
     ]
    },
    {
     "name": "stdout",
     "output_type": "stream",
     "text": [
      "El vector u x v resultante es: [-4.0, 8.0, -4.0]\n"
     ]
    }
   ],
   "source": [
    "# print(\"Este programa calcula el producto cruz entre los vectores u y v en R^3 cuyas entradas deberán ser introducidas por el usuario.\")\n",
    "# El usuario introduce las entradas del vector u:\n",
    "print(\"Para el primer vector, u:\")\n",
    "u_1 = float(input('Introduza u_1: '))\n",
    "u_2 = float(input('Introduza u_2: '))\n",
    "u_3 = float(input('Introduza u_3: '))\n",
    "# El usuario introduce las entradas del vector v:\n",
    "print(\"Para el segundo vector, v:\")\n",
    "v_1 = float(input('Introduza v_1: '))\n",
    "v_2 = float(input('Introduza v_2: '))\n",
    "v_3 = float(input('Introduza v_3: '))\n",
    "\n",
    "# Se definen los vectores u y v:\n",
    "u = np.array([u_1,u_2,u_3])\n",
    "v = np.array([v_1,v_2,v_3])\n",
    "\n",
    "dimension = len(u) # La dimensión de los vectores estará modulada por la dimensión de alguno de ellos.\n",
    "def productocruz(u,v): # Se define la operación producto cruz de la siguiente forma:\n",
    "    uxv = []    # En esta lista vacía se irán agregando las entradas del vector uxv.\n",
    "    for i in range(dimension): # Establecemos un ciclo for para cada i dentro del rango de la dim(u). Estos i equivalen a los elementos del vector \"uxv\".\n",
    "        if i == 0:     \n",
    "            j,k = 1,2   # Para un i=1, definimos los subíndices j,k=1,2 respectivamente.\n",
    "            uxv.append(u[j]*v[k] - u[k]*v[j])   # Agregamos a la lista \"uxv\" el primer elemento que se observa.\n",
    "        elif i == 1:                            # Nótese que los elementos que se agregan corresponden con los 3 determinantes 2x2 que constituyen al vector u x v.\n",
    "            j,k = 2,0\n",
    "            uxv.append(u[j]*v[k] - u[k]*v[j])   # Hacemos lo mismo agregando el segundo elemento.\n",
    "        else:\n",
    "            j,k = 0,1\n",
    "            uxv.append(u[j]*v[k] - u[k]*v[j])   # Se agrega el tercer y último elemento de \"uxv\".\n",
    "    return uxv\n",
    "\n",
    "print(\"El vector u x v resultante es:\",productocruz(u,v))    # Se muestra en pantalla el resultado."
   ]
  },
  {
   "cell_type": "markdown",
   "metadata": {},
   "source": [
    "**Ejemplo:** <br>\n",
    "Este programa calcula el producto cruz entre los vectores u y v en $\\mathbb{R^{3}}$ cuyas entradas deberán ser introducidas por el usuario. <br>\n",
    "\n",
    "Para el primer vector, u: <br>\n",
    "Introduza u_1: 1 <br>\n",
    "Introduza u_2: 0 <br>\n",
    "Introduza u_3: 0 <br>\n",
    "\n",
    "Para el segundo vector, v: <br>\n",
    "Introduza v_1: 0 <br>\n",
    "Introduza v_2: 1 <br>\n",
    "Introduza v_3: 0 <br>\n",
    "\n",
    "El vector u x v resultante es: [0.0, 0.0, 1.0]"
   ]
  },
  {
   "cell_type": "markdown",
   "metadata": {},
   "source": [
    "7. a) Escribe un programa que calcule la suma de dos vectores en $\\mathbb{R^{3}}$. El usuario debe insertar las entradas de los vectores."
   ]
  },
  {
   "cell_type": "markdown",
   "metadata": {},
   "source": [
    "**Procedimiento:**"
   ]
  },
  {
   "cell_type": "markdown",
   "metadata": {},
   "source": [
    "Obsérvese que el procedimiento es análogo al del ejercicio anterior y recordemos la fórmula que habrá que utilizar: <br>\n",
    "$$ u+v = (u_{1},u_{2},u_{3}) + (v_{1},v_{2},v_{3}) = (u_{1}+v_{1},u_{2}+v_{2},u_{3}+v_{3}) $$"
   ]
  },
  {
   "cell_type": "markdown",
   "metadata": {},
   "source": [
    "**Código:**"
   ]
  },
  {
   "cell_type": "code",
   "execution_count": null,
   "metadata": {},
   "outputs": [],
   "source": [
    "print(\"Este programa calcula la suma de los vectores u y v en R^3 cuyas entradas deberán ser introducidas por el usuario.\")\n",
    "# El usuario introduce las entradas del vector u:\n",
    "print(\"Para el primer vector, u:\")\n",
    "u_1 = float(input('Introduza u_1: '))\n",
    "u_2 = float(input('Introduza u_2: '))\n",
    "u_3 = float(input('Introduza u_3: '))\n",
    "# El usuario introduce las entradas del vector v:\n",
    "print(\"Para el segundo vector, v:\")\n",
    "v_1 = float(input('Introduza v_1: '))\n",
    "v_2 = float(input('Introduza v_2: '))\n",
    "v_3 = float(input('Introduza v_3: '))\n",
    "\n",
    "# Se definen los vectores u y v:\n",
    "u = np.array([u_1,u_2,u_3])\n",
    "v = np.array([v_1,v_2,v_3])\n",
    "\n",
    " # Se define la operación suma de la siguiente forma:\n",
    "    \n",
    "def sumadevectores(u,v): \n",
    "    s = []                    # En esta lista vacía se irán agregando las entradas del vector u+v.\n",
    "    for i in range(len(u)):   # Establecemos un ciclo for para cada i dentro del rango de la dim(u). Estos i equivalen a los elementos del vector \"u+v\".\n",
    "# El elemento i-ésimo de u+v es simplemente el elemento i-ésimo de u más el elemento i-ésimo de v, para cada i dentro del range(2). \n",
    "        s.append(u[i]+v[i])\n",
    "    return s\n",
    "\n",
    "print(\"El vector u + v resultante es:\",sumadevectores(u,v))   # Se muestra en pantalla el resultado."
   ]
  },
  {
   "cell_type": "markdown",
   "metadata": {},
   "source": [
    "**Ejemplo:** <br>\n",
    "Este programa calcula la suma entre los vectores u y v en R^3 cuyas entradas deberán ser introducidas por el usuario. <br>\n",
    "                                                                                                                        \n",
    "Para el primer vector, u: <br>\n",
    "Introduza u_1:  2 <br>\n",
    "Introduza u_2:  4 <br>\n",
    "Introduza u_3:  8 <br>\n",
    "<br>\n",
    "Para el segundo vector, v: <br>\n",
    "Introduza v_1:  2 <br>\n",
    "Introduza v_2:  2 <br>\n",
    "Introduza v_3:  8 <br>\n",
    "\n",
    "El vector u + v resultante es: [4.0, 6.0, 16.0] <br>"
   ]
  },
  {
   "cell_type": "markdown",
   "metadata": {},
   "source": [
    "7. b) Escribe un programa que sume dos vectores en $\\mathbb{R^{n}}$. Las entradas de los vectores deben leerse de un archivo de datos. "
   ]
  },
  {
   "cell_type": "markdown",
   "metadata": {},
   "source": [
    "**Procedimiento:**"
   ]
  },
  {
   "cell_type": "markdown",
   "metadata": {},
   "source": [
    "Obsérvese que la definición final de la operación suma es análoga a la del problema anterior. Además, el propio programa habla por sí mismo junto con los comentarios correspondientes."
   ]
  },
  {
   "cell_type": "markdown",
   "metadata": {},
   "source": [
    "**Código:**"
   ]
  },
  {
   "cell_type": "code",
   "execution_count": null,
   "metadata": {},
   "outputs": [],
   "source": [
    "print(\"Este programa calcula la suma de dos vectores en R^n generados aleatoriamente, guardados en un archivo (el cual será creado) y leídos del mismo.\")\n",
    "# Definimos el espacio vectorial en donde se sumarán los vectores (R^n).\n",
    "n = int(input(\"Introduzca el valor de n, es decir, defina en qué espacio vectorial se sumarán los vectores:\" ))\n",
    "print()\n",
    "\n",
    "# Definimos el intervalo [a,b] de valores que podrán tomar las entradas del vector u.\n",
    "print(\"Defina el intervalo [a,b] de valores que podrán tomar las entradas de u:\")\n",
    "a = int(input(\"Introduzca un número entero para a:\" ))\n",
    "b = int(input(\"Introduzca un número entero para b:\" ))\n",
    "u = [randint(a,b) for _ in range(n)]  # Generamos un vector con entradas aleatorias dentro del rango[a,b] de dimensión n.\n",
    "print()\n",
    "\n",
    "# Definimos el intervalo [c,d] de valores que podrán tomar las entradas del vector u.\n",
    "print(\"Defina el intervalo [c,d] de valores que podrán tomar las entradas de v:\")\n",
    "c = int(input(\"Introduzca un número entero para c:\" ))\n",
    "d = int(input(\"Introduzca un número entero para d:\" ))\n",
    "v = [randint(c,d) for _ in range(n)]  # Generamos un vector con entradas aleatorias dentro del rango[c,d] de dimensión n.\n",
    "print()\n",
    "\n",
    "print(\"Los vectores generados son:\")\n",
    "print(\"u=\",u)  # El vector generado u.\n",
    "print(\"v=\",v)  # El vector generado v.\n",
    "print() # Salto de línea.\n",
    "\n",
    "# Creando un archivo para el vector u y agregando las líneas del vector generado anteriormente.\n",
    "print(\"Guardando el vector u en un archivo...Listo\")\n",
    "entradasu = open(\"vectoru.txt\", \"w\") #---> Modo \"w\" de \"escritura\".\n",
    "entradasu.writelines(\"%s\\n\" % s for s in u) # Transformando los elementos de la lista en str().\n",
    "entradasu.close() # Se cierra el archivo para u.\n",
    "print()\n",
    "\n",
    "# Creando un archivo para el vector v y agregando las líneas del vector generado anteriormente.\n",
    "print(\"Guardando el vector v en un archivo...Listo\")\n",
    "entradasv = open(\"vectorv.txt\", \"w\")\n",
    "entradasv.writelines(\"%s\\n\" % s for s in v)\n",
    "entradasv.close() # Se cierra el archivo para v.\n",
    "print()\n",
    "\n",
    "# Leyendo las líneas del archivo creado para \"u\" y agragándolas al vector \"u_1\".\n",
    "print(\"Leyendo el archivo del vector u...Listo\")\n",
    "entradasu = open(\"vectoru.txt\",\"r\") #---> Modo \"r\" de \"lectura\".\n",
    "u_1 = []\n",
    "for linea in entradasu:\n",
    "    u_1.append(float(linea)) # Agregamos cada línea del archivo en el vector \"u_1\".\n",
    "print()\n",
    "\n",
    "# Leyendo las líneas del archivo creado para \"v\" y agragándolas al vector \"v_1\".    \n",
    "print(\"Leyendo el archivo del vector v...Listo\")\n",
    "entradasv = open(\"vectorv.txt\",\"r\")\n",
    "v_1 = []\n",
    "for linea in entradasv:\n",
    "    v_1.append(float(linea)) # Agregamos cada línea del archivo en el vector \"v_1\".\n",
    "print()\n",
    "\n",
    "# Se define la operación suma de vectores de forma análoga al problema anterior.\n",
    "def sumadevectores(u_1,v_1): \n",
    "    suma = []                   \n",
    "    for i in range(len(u_1)):  \n",
    "        suma.append(u_1[i]+v_1[i])\n",
    "    return suma\n",
    "\n",
    "# Se muestran en pantalla los mismos vectores de antes, pero leídos de un archivo para cada uno de ellos; así como el resultado de la suma.\n",
    "print(\"El vector u leído de un archivo es:\",u_1)\n",
    "print(\"El vector v leído de un archivo es:\",v_1)\n",
    "print(\"El vector u + v resultante es:\",sumadevectores(u_1,v_1))  "
   ]
  },
  {
   "cell_type": "markdown",
   "metadata": {},
   "source": [
    "**Ejemplo:**"
   ]
  },
  {
   "cell_type": "markdown",
   "metadata": {},
   "source": [
    "Introduzca el valor de n, es decir, defina en qué espacio vectorial se sumarán los vectores: 10 <br>\n",
    "\n",
    "Defina el intervalo [a,b] de valores que podrán tomar las entradas de u: <br>\n",
    "Introduca un número entero para a: -100 <br>\n",
    "Introduca un número entero para b: 100 <br>\n",
    "\n",
    "Defina el intervalo [c,d] de valores que podrán tomar las entradas de v: <br>\n",
    "Introduca un número entero para c: -100 <br>\n",
    "Introduca un número entero para d: 100 <br>\n",
    "\n",
    "Los vectores generados son: <br>\n",
    "u= [-12, -26, -31, 48, -94, -62, 49, -55, 61, 75] <br>\n",
    "v= [-44, 77, 72, -16, 22, -11, 74, 72, -19, 15] <br>\n",
    "\n",
    "Guardando el vector u en un archivo...Listo <br>\n",
    "\n",
    "Guardando el vector v en un archivo...Listo <br>\n",
    "\n",
    "Leyendo el archivo del vector u...Listo <br>\n",
    "\n",
    "Leyendo el archivo del vector v...Listo <br>\n",
    "\n",
    "El vector u leído de un archivo es: [-12.0, -26.0, -31.0, 48.0, -94.0, -62.0, 49.0, -55.0, 61.0, 75.0] <br>\n",
    "El vector v leído de un archivo es: [-44.0, 77.0, 72.0, -16.0, 22.0, -11.0, 74.0, 72.0, -19.0, 15.0] <br>\n",
    "El vector u + v resultante es: [-56.0, 51.0, 41.0, 32.0, -72.0, -73.0, 123.0, 17.0, 42.0, 90.0]"
   ]
  },
  {
   "cell_type": "markdown",
   "metadata": {},
   "source": [
    "8. a) Calcular el producto interior (producto punto) de dos vectores en $\\mathbb{R}^3$. El usuario debe ingresar las entradas de los vectores."
   ]
  },
  {
   "cell_type": "markdown",
   "metadata": {},
   "source": [
    "**Procedimiento:**"
   ]
  },
  {
   "cell_type": "markdown",
   "metadata": {},
   "source": [
    "El procedimiento es muy parecido al del problema 7 (inciso a) y, los comentarios correspondientes hablan por sí mismos. Lo que cabe resaltar es la fórmula que habrá que utilizar para calcular el producto interior de dos vectores en $\\mathbb{R}^3$: $$u \\cdot v = \\sum_{n=1}^{3} u_n v_n = u_1 v_1 + u_2 v_2 + u_3 v_3. $$ Nótese que el producto punto de dos vectores es un escalar, mas no un vector."
   ]
  },
  {
   "cell_type": "markdown",
   "metadata": {},
   "source": [
    "**Código**:"
   ]
  },
  {
   "cell_type": "code",
   "execution_count": 1,
   "metadata": {},
   "outputs": [
    {
     "name": "stdout",
     "output_type": "stream",
     "text": [
      "Este programa calcula el producto interior de los vectores u y v en R^3 cuyas entradas deberán ser introducidas por el usuario.\n",
      "\n",
      "Introduzca las entradas en orden del primer vector, u:\n"
     ]
    },
    {
     "name": "stdin",
     "output_type": "stream",
     "text": [
      ": 1\n",
      ": 2\n",
      ": 3\n"
     ]
    },
    {
     "name": "stdout",
     "output_type": "stream",
     "text": [
      "\n",
      "Introduzca las entradas en orden del segundo vector, v:\n"
     ]
    },
    {
     "name": "stdin",
     "output_type": "stream",
     "text": [
      ": 3\n",
      ": 4\n",
      ": 5\n"
     ]
    },
    {
     "name": "stdout",
     "output_type": "stream",
     "text": [
      "\n",
      "Los vectores ingresados son:\n",
      "u= [1.0, 2.0, 3.0]\n",
      "v= [3.0, 4.0, 5.0]\n",
      "\n",
      "El producto interior uv resultante es: 26.0\n"
     ]
    }
   ],
   "source": [
    "print(\"Este programa calcula el producto interior de los vectores u y v en R^3 cuyas entradas deberán ser introducidas por el usuario.\")\n",
    "print()\n",
    "\n",
    "# El usuario introduce las entradas del vector u:\n",
    "print(\"Introduzca las entradas en orden del primer vector, u:\")\n",
    "u = []\n",
    "for i in range(3):                 # Para i en un rango de 1 a 3...\n",
    "    entradau = float(input(\":\" ))  # El usuario ingresa una entrada del vector u.\n",
    "    u.append(entradau)             # Se agrega cada entrada (desde i=1 hasta i=3) al vector u.\n",
    "print()\n",
    "\n",
    "# El usuario introduce las entradas del vector v:\n",
    "print(\"Introduzca las entradas en orden del segundo vector, v:\")\n",
    "v = []\n",
    "for i in range(3):\n",
    "    entradav = float(input(\":\" ))  # Caso análogo al anterior pero ahora para el vector v.\n",
    "    v.append(entradav)\n",
    "print()\n",
    "\n",
    "# Se confirman en pantalla los vectores u y v:\n",
    "print(\"Los vectores ingresados son:\")\n",
    "print(\"u=\",u)\n",
    "print(\"v=\",v)\n",
    "print()\n",
    "\n",
    " # Se define la operación producto punto de la siguiente forma:\n",
    "    \n",
    "def productointerior(u,v):\n",
    "    uv = 0                    # Aquí se irán sumando los productos de la fórmula del producto punto.\n",
    "    for i in range(3):   # Para un i en un rango de 1 a 3...\n",
    "        uv += u[i]*v[i]       # uv se define como la suma de los productos de los elementos correspondientes de cada vector (u[i]*v[i]). \n",
    "    return uv\n",
    "print(\"El producto interior uv resultante es:\",productointerior(u,v))   # Se muestra en pantalla el resultado."
   ]
  },
  {
   "cell_type": "markdown",
   "metadata": {},
   "source": [
    "**Ejemplo:**"
   ]
  },
  {
   "cell_type": "markdown",
   "metadata": {},
   "source": [
    "Este programa calcula el producto interior de los vectores u y v en R^3 cuyas entradas deberán ser introducidas por el usuario. <br>\n",
    "\n",
    "Introduzca las entradas en orden del primer vector, u: <br>\n",
    ": 4.5 <br>\n",
    ": 2.5 <br>\n",
    ": 1.5 <br>\n",
    "\n",
    "Introduzca las entradas en orden del segundo vector, v: <br>\n",
    ": 0 <br>\n",
    ": 6.25 <br>\n",
    ": 7 <br>\n",
    "\n",
    "Los vectores ingresados son: <br>\n",
    "u= [4.5, 2.5, 1.5] <br>\n",
    "v= [0.0, 6.25, 7.0] <br>\n",
    "\n",
    "El producto interior uv resultante es: 26.125"
   ]
  },
  {
   "cell_type": "markdown",
   "metadata": {},
   "source": [
    "8. b) Escribe un programa que calcule el producto punto de dos vectores en $\\mathbb{R}^n$. Las entradas de los vectores deben leerse de un archivo de datos."
   ]
  },
  {
   "cell_type": "markdown",
   "metadata": {},
   "source": [
    "**Procedimiento:**"
   ]
  },
  {
   "cell_type": "markdown",
   "metadata": {},
   "source": [
    "El procedimiento es muy parecido al del problema 8 (inciso a) y, los comentarios correspondientes hablan por sí mismos. Lo que cabe resaltar es la fórmula que habrá que utilizar para calcular el producto interior de dos vectores en $\\mathbb{R}^n$: $$u \\cdot v = \\sum_{i=1}^{n} u_i v_i = u_1 v_1 + u_2 v_2 + ... + u_n v_n $$ Nótese que el producto punto de dos vectores es un escalar, mas no un vector."
   ]
  },
  {
   "cell_type": "markdown",
   "metadata": {},
   "source": [
    "**Código:**"
   ]
  },
  {
   "cell_type": "code",
   "execution_count": 5,
   "metadata": {},
   "outputs": [
    {
     "name": "stdout",
     "output_type": "stream",
     "text": [
      "Este programa calcula el producto punto de dos vectores en R^n generados aleatoriamente, guardados en un archivo (el cual será creado) y leídos del mismo.\n"
     ]
    },
    {
     "name": "stdin",
     "output_type": "stream",
     "text": [
      "Introduzca el valor de n, es decir, defina en qué espacio vectorial se multiplicarán los vectores: 3\n"
     ]
    },
    {
     "name": "stdout",
     "output_type": "stream",
     "text": [
      "\n",
      "Defina el intervalo [a,b] de valores que podrán tomar las entradas de u:\n"
     ]
    },
    {
     "name": "stdin",
     "output_type": "stream",
     "text": [
      "Introduzca un número entero para a: -100\n",
      "Introduzca un número entero para b: 100\n"
     ]
    },
    {
     "name": "stdout",
     "output_type": "stream",
     "text": [
      "\n",
      "Defina el intervalo [c,d] de valores que podrán tomar las entradas de v:\n"
     ]
    },
    {
     "name": "stdin",
     "output_type": "stream",
     "text": [
      "Introduzca un número entero para c: -100\n",
      "Introduzca un número entero para d: 100\n"
     ]
    },
    {
     "name": "stdout",
     "output_type": "stream",
     "text": [
      "\n",
      "Los vectores generados son:\n",
      "u= [-58, -54, 100]\n",
      "v= [19, -28, 9]\n",
      "\n",
      "Guardando el vector u en un archivo...Listo\n",
      "\n",
      "Guardando el vector v en un archivo...Listo\n",
      "\n",
      "Leyendo el archivo del vector u...Listo\n",
      "\n",
      "Leyendo el archivo del vector v...Listo\n",
      "\n",
      "El vector u leído de un archivo es: [-58.0, -54.0, 100.0]\n",
      "El vector v leído de un archivo es: [19.0, -28.0, 9.0]\n",
      "El producto interior uv resultante es: 1310\n"
     ]
    }
   ],
   "source": [
    "print(\"Este programa calcula el producto punto de dos vectores en R^n generados aleatoriamente, guardados en un archivo (el cual será creado) y leídos del mismo.\")\n",
    "# Definimos el espacio vectorial en donde se multiplicarán los vectores (R^n).\n",
    "n = int(input(\"Introduzca el valor de n, es decir, defina en qué espacio vectorial se multiplicarán los vectores:\" ))\n",
    "print()\n",
    "\n",
    "# Definimos el intervalo [a,b] de valores que podrán tomar las entradas del vector u.\n",
    "print(\"Defina el intervalo [a,b] de valores que podrán tomar las entradas de u:\")\n",
    "a = int(input(\"Introduzca un número entero para a:\" ))\n",
    "b = int(input(\"Introduzca un número entero para b:\" ))\n",
    "u = [randint(a,b) for _ in range(n)]  # Generamos un vector con entradas aleatorias dentro del rango[a,b] de dimensión n.\n",
    "print()\n",
    "\n",
    "# Definimos el intervalo [c,d] de valores que podrán tomar las entradas del vector v.\n",
    "print(\"Defina el intervalo [c,d] de valores que podrán tomar las entradas de v:\")\n",
    "c = int(input(\"Introduzca un número entero para c:\" ))\n",
    "d = int(input(\"Introduzca un número entero para d:\" ))\n",
    "v = [randint(c,d) for _ in range(n)]  # Generamos un vector con entradas aleatorias dentro del rango[c,d] de dimensión n.\n",
    "print()\n",
    "\n",
    "print(\"Los vectores generados son:\")\n",
    "print(\"u=\",u)  # El vector generado u.\n",
    "print(\"v=\",v)  # El vector generado v.\n",
    "print() # Salto de línea.\n",
    "\n",
    "# Creando un archivo para el vector u y agregando las líneas del vector generado anteriormente.\n",
    "print(\"Guardando el vector u en un archivo...Listo\")\n",
    "entradasu = open(\"vectoru_1.txt\", \"w\") #---> Modo \"w\" de \"escritura\".\n",
    "entradasu.writelines(\"%s\\n\" % s for s in u) # Transformando los elementos de la lista en str().\n",
    "entradasu.close() # Se cierra el archivo para u.\n",
    "print()\n",
    "\n",
    "# Creando un archivo para el vector v y agregando las líneas del vector generado anteriormente.\n",
    "print(\"Guardando el vector v en un archivo...Listo\")\n",
    "entradasv = open(\"vectorv_1.txt\", \"w\")\n",
    "entradasv.writelines(\"%s\\n\" % s for s in v)\n",
    "entradasv.close() # Se cierra el archivo para v.\n",
    "print()\n",
    "\n",
    "# Leyendo las líneas del archivo creado para \"u\" y agragándolas al vector \"u_1\".\n",
    "print(\"Leyendo el archivo del vector u...Listo\")\n",
    "entradasu = open(\"vectoru_1.txt\",\"r\") #---> Modo \"r\" de \"lectura\".\n",
    "u_1 = []\n",
    "for linea in entradasu:\n",
    "    u_1.append(float(linea)) # Agregamos cada línea del archivo en el vector \"u_1\".\n",
    "print()\n",
    "\n",
    "# Leyendo las líneas del archivo creado para \"v\" y agragándolas al vector \"v_1\".    \n",
    "print(\"Leyendo el archivo del vector v...Listo\")\n",
    "entradasv = open(\"vectorv_1.txt\",\"r\")\n",
    "v_1 = []\n",
    "for linea in entradasv:\n",
    "    v_1.append(float(linea)) # Agregamos cada línea del archivo en el vector \"v_1\".\n",
    "print()\n",
    "\n",
    "# Se define la operación del producto interior\n",
    "def productointerior(u,v):\n",
    "    uv = 0                    # Aquí se irán sumando los productos de la fórmula del producto punto.\n",
    "    for i in range(len(u_1)):   # Para un i en un rango de 1 a 3...\n",
    "        uv += u[i]*v[i]       # uv se define como la suma de los productos de los elementos correspondientes de cada vector (u[i]*v[i]). \n",
    "    return uv\n",
    "\n",
    "# Se muestran en pantalla los mismos vectores de antes, pero leídos de un archivo para cada uno de ellos; así como el resultado de la suma.\n",
    "print(\"El vector u leído de un archivo es:\",u_1)\n",
    "print(\"El vector v leído de un archivo es:\",v_1)\n",
    "print(\"El producto interior uv resultante es:\",productointerior(u,v))   # Se muestra en pantalla el resultado."
   ]
  },
  {
   "cell_type": "markdown",
   "metadata": {},
   "source": [
    "**Ejemplo:**"
   ]
  },
  {
   "cell_type": "markdown",
   "metadata": {},
   "source": [
    "Este programa calcula el producto punto de dos vectores en R^n generados aleatoriamente, guardados en un archivo (el cual será creado) y leídos del mismo. <br>\n",
    "Introduzca el valor de n, es decir, defina en qué espacio vectorial se multiplicarán los vectores: 3 <br>\n",
    "\n",
    "Defina el intervalo [a,b] de valores que podrán tomar las entradas de u: <br>\n",
    "Introduzca un número entero para a: -100 <br>\n",
    "Introduzca un número entero para b: 100 <br>\n",
    "\n",
    "Defina el intervalo [c,d] de valores que podrán tomar las entradas de v: <br>\n",
    "Introduzca un número entero para c: -100 <br>\n",
    "Introduzca un número entero para d: 100 <br>\n",
    "\n",
    "Los vectores generados son: <br>\n",
    "u= [-58, -54, 100] <br>\n",
    "v= [19, -28, 9] <br>\n",
    "\n",
    "Guardando el vector u en un archivo...Listo <br>\n",
    "\n",
    "Guardando el vector v en un archivo...Listo <br>\n",
    "\n",
    "Leyendo el archivo del vector u...Listo <br>\n",
    "\n",
    "Leyendo el archivo del vector v...Listo <br>\n",
    "\n",
    "El vector u leído de un archivo es: [-58.0, -54.0, 100.0] <br>\n",
    "El vector v leído de un archivo es: [19.0, -28.0, 9.0] <br>\n",
    "El producto interior uv resultante es: 1310 <br>"
   ]
  },
  {
   "cell_type": "markdown",
   "metadata": {},
   "source": [
    "9. a) Sumar dos matrices en $\\mathbb{R}^{2x2}$. El usuario debe insertar las entradas de las matrices."
   ]
  },
  {
   "cell_type": "markdown",
   "metadata": {},
   "source": [
    "**Fórmula utilizada:**"
   ]
  },
  {
   "cell_type": "markdown",
   "metadata": {},
   "source": [
    "Dadas las matrices de orden $2x2$ $A=(a_{ij})$ y $B=(b_{ij})$. Definimos la matriz $A+B$ como:\n",
    "$$(a_{ij})+(b_{ij}) = (a_{ij}+b_{ij}) \\ ; i=j$$"
   ]
  },
  {
   "cell_type": "markdown",
   "metadata": {},
   "source": [
    "**Código:**"
   ]
  },
  {
   "cell_type": "code",
   "execution_count": null,
   "metadata": {},
   "outputs": [],
   "source": [
    "print(\"Este programa calcula la suma de dos matrices A y B en R^2 cuyas entradas deberán ser introducidas por el usuario.\")\n",
    "print()\n",
    "\n",
    "# El usuario introduce la primera fila de la matriz A:\n",
    "print(\"Introduzca las entradas en orden de la primera fila de la matriz A:\")\n",
    "A_1 = []\n",
    "for i in range(2):             # Para i en un rango de 1 a 2...\n",
    "    a_1i = float(input(\":\" ))  # El usuario ingresa la primera fila de la matriz A.\n",
    "    A_1.append(a_1i)           # Se agrega cada término a la fila A_1.\n",
    "print()\n",
    "\n",
    "# El usuario introduce la segunda fila de la matriz A:\n",
    "print(\"Introduzca las entradas en orden de la segunda fila de la matriz A:\")\n",
    "A_2 = []\n",
    "for i in range(2):             # Para i en un rango de 1 a 2...\n",
    "    a_2i = float(input(\":\" ))  # El usuario ingresa la primera fila de la matriz A.\n",
    "    A_2.append(a_2i)           # Se agrega cada término a la fila A_1.\n",
    "print()\n",
    "\n",
    "A = [A_1, A_2]\n",
    "print(\"La matriz A ingresada es:\", A)\n",
    "print()\n",
    "\n",
    "# El usuario introduce la primera fila de la matriz B:\n",
    "print(\"Introduzca las entradas en orden de la primera fila de la matriz B:\")\n",
    "B_1 = []\n",
    "for i in range(2):             # Para i en un rango de 1 a 2...\n",
    "    b_1i = float(input(\":\" ))  # El usuario ingresa la primera fila de la matriz B.\n",
    "    B_1.append(b_1i)           # Se agrega cada término a la fila B_1.\n",
    "print()\n",
    "\n",
    "# El usuario introduce la segunda fila de la matriz B:\n",
    "print(\"Introduzca las entradas en orden de la segunda fila de la matriz B:\")\n",
    "B_2 = []\n",
    "for i in range(2):             # Para i en un rango de 1 a 2...\n",
    "    b_2i = float(input(\":\" ))  # El usuario ingresa la primera fila de la matriz B.\n",
    "    B_2.append(b_2i)           # Se agrega cada término a la fila B_1.\n",
    "print()\n",
    "\n",
    "B = [B_1, B_2]\n",
    "print(\"La matriz B ingresada es:\", B)\n",
    "print()\n",
    "\n",
    "#Definimos la operación suma de matrices:\n",
    "def sumar_matrices(A,B):\n",
    "    sumaAB = []                                 # Esta es la matriz A+B\n",
    "    for i in range(len(A)):\n",
    "        sumaAB.append([])\n",
    "        for j in range(len(A[0])):\n",
    "            sumaAB[i].append(A[i][j] + B[i][j]) # Sumamos elementos correspondientes de cada matriz.\n",
    "    return sumaAB\n",
    "print()\n",
    "            \n",
    "print(\"La matriz resultante es A + B =\",sumar_matrices(A,B)) # Mostramos el resultado en pantalla          "
   ]
  },
  {
   "cell_type": "markdown",
   "metadata": {},
   "source": [
    "**Ejemplo:**"
   ]
  },
  {
   "cell_type": "markdown",
   "metadata": {},
   "source": [
    "Este programa calcula la suma de dos matrices A y B en R^2 cuyas entradas deberán ser introducidas por el usuario. <br>\n",
    "\n",
    "Introduzca las entradas en orden de la primera fila de la matriz A: <br>\n",
    ": 4 <br>\n",
    ": 7 <br>\n",
    "\n",
    "Introduzca las entradas en orden de la segunda fila de la matriz A: <br>\n",
    ": 6 <br>\n",
    ": 3 <br>\n",
    "\n",
    "La matriz A ingresada es: [[4.0, 7.0], [6.0, 3.0]] <br>\n",
    "\n",
    "Introduzca las entradas en orden de la primera fila de la matriz B: <br>\n",
    ": 6 <br>\n",
    ": 7 <br>\n",
    "\n",
    "Introduzca las entradas en orden de la segunda fila de la matriz B: <br>\n",
    ": 4 <br>\n",
    ": 2 <br>\n",
    " \n",
    "La matriz B ingresada es: [[6.0, 7.0], [4.0, 2.0]] <br>\n",
    "\n",
    "La matriz resultante es A + B = [[10.0, 14.0], [10.0, 5.0]]"
   ]
  },
  {
   "cell_type": "markdown",
   "metadata": {},
   "source": [
    "9. b) Escribe un programa que sume dos matrices en $\\mathbb{R}^{nxn}$. Las entradas deben leerse de un archivo."
   ]
  },
  {
   "cell_type": "markdown",
   "metadata": {},
   "source": [
    "**Código:**"
   ]
  },
  {
   "cell_type": "code",
   "execution_count": null,
   "metadata": {},
   "outputs": [],
   "source": [
    "n = int(input(\"Introduzca el valor de n, es decir, defina el orden de las matrices:\" ))\n",
    "print()\n",
    "\n",
    "# Se crea el archivo para la matriz A.\n",
    "#matrizA = open(\"Matriz_A.txt\",\"w\")\n",
    "\n",
    "# Definimos el intervalo [a,b] de valores que podrán tomar los elementos de A.\n",
    "print(\"Defina el intervalo [a,b] de valores que podrán tomar los elementos de A:\")\n",
    "a = int(input(\"Introduzca un número entero para a:\" ))\n",
    "b = int(input(\"Introduzca un número entero para b:\" ))\n",
    "print()\n",
    "\n",
    "# Se genera la matriz aleatoria A de orden nxn.\n",
    "A = []\n",
    "for i in range(n):\n",
    "    A.append([0]*n)                  # Aquí se define el tamaño de la matriz con n filas de ceros. \n",
    "for f in range(n):\n",
    "    for c in range(n):\n",
    "        A[f][c] = rnd.randint(a,b)   # Todos los elementos de la f-ésima fila y c-ésima columna se generan aleatoriamente con rnd.randint(a,b).\n",
    "print(\"La matriz generada es A=\",A)\n",
    "print()\n",
    "\n",
    "# Definimos el intervalo [a1,b1] de valores que podrán tomar los elementos de B.\n",
    "print(\"Defina el intervalo [a1,b1] de valores que podrán tomar los elementos de B:\")\n",
    "a1 = int(input(\"Introduzca un número entero para a1:\" ))\n",
    "b1 = int(input(\"Introduzca un número entero para b1:\" ))\n",
    "print()\n",
    "\n",
    "# Se genera la matriz aleatoria B de orden nxn.\n",
    "B = []\n",
    "for i in range(n):\n",
    "    B.append([0]*n)\n",
    "for f in range(n):\n",
    "    for c in range(n):\n",
    "        B[f][c] = rnd.randint(a1,b1) \n",
    "print(\"La matriz generada es B=\",B)\n",
    "print()\n",
    "\n",
    "# Para obtener el resultado, utilizamos la función sumar_matrices(A,B) definida en el inciso anterior.\n",
    "print(\"La matriz resultante es A + B =\",sumar_matrices(A,B)) # Mostramos el resultado en pantalla    \n",
    "\n",
    "\n",
    "# ******************************AÚN ME FALTA PRACTICAR LA LECTURA DE ARCHIVOS******************************\n",
    "# ****************************** PERO CRÉAME QUE ME ESFORCÉ ***********************************************\n",
    "# Se crea la matriz A.\n",
    "#for i in range(n):\n",
    " #   for j in range(n):\n",
    "  #      a_ij = rnd.randint(a,b)\n",
    "   #     matrizA.write(\"%a_ij\\n\" % a_ij)\n",
    "    #matrizA.write(\"\\n\")\n",
    "#matrizA.close()\n",
    "\n",
    "# Leyendo las líneas del archivo creado para \"u\" y agragándolas al vector \"u_1\".\n",
    "#print(\"Leyendo el archivo de la matriz A...Listo\")\n",
    "#matrizA = open(\"Matriz_A.txt\",\"r\") #---> Modo \"r\" de \"lectura\".\n",
    "#A = []\n",
    "#for linea in entradasA:\n",
    "    #A.append(float(linea)) # Agregamos cada línea del archivo en el vector \"u_1\".   \n",
    "#print()\n",
    "#print(A)\n",
    "\n",
    "# Se crea el archivo para la matriz B.\n",
    "#B = open(\"Matriz_B.txt\",\"w\")\n",
    "\n",
    "#for i in range(n):\n",
    "  #  for j in range(n):\n",
    "   #     b_ij = rnd.randint(c,d)\n",
    "    #    A.write(\"%b_ij\\n\" % b_ij)\n",
    "    #B.write(\"\\n\")\n",
    "#B.close()"
   ]
  },
  {
   "cell_type": "markdown",
   "metadata": {},
   "source": [
    "**Ejemplo:**"
   ]
  },
  {
   "cell_type": "markdown",
   "metadata": {},
   "source": [
    "Introduzca el valor de n, es decir, defina el orden de las matrices: 5 <br>\n",
    "\n",
    "Defina el intervalo [a,b] de valores que podrán tomar los elementos de A: <br>\n",
    "Introduzca un número entero para a: -100 <br>\n",
    "Introduzca un número entero para b: 100 <br>\n",
    "\n",
    "La matriz generada es A= [[75, -91, -28, 48, -67], [17, 9, 67, 2, 4], [74, -5, -13, -9, -73], [-62, -30, -93, 79, -86], [-12, 68, -24, -81, -27]] <br>\n",
    "\n",
    "Defina el intervalo [a1,b1] de valores que podrán tomar los elementos de B: <br>\n",
    "Introduzca un número entero para a1: -100 <br>\n",
    "Introduzca un número entero para b1: 100 <br>\n",
    "\n",
    "La matriz generada es B= [[-31, 97, 79, 56, 82], [-99, 56, -60, -69, -95], [43, 48, -35, -20, -3], [-64, -1, 75, -53, -1], [30, -18, 32, -2, 72]] <br>\n",
    "\n",
    "La matriz resultante es A + B = [[44, 6, 51, 104, 15], [-82, 65, 7, -67, -91], [117, 43, -48, -29, -76], [-126, -31, -18, 26, -87], [18, 50, 8, -83, 45]] <br>"
   ]
  },
  {
   "cell_type": "markdown",
   "metadata": {},
   "source": [
    "10. a)"
   ]
  },
  {
   "cell_type": "markdown",
   "metadata": {},
   "source": [
    "10. b)"
   ]
  },
  {
   "cell_type": "markdown",
   "metadata": {},
   "source": [
    "11. a) Escribe un programa para calcular una recta de valores **Y** en términos de valores **X** en cierto rango de **X**, *i.e* el programa debe arrojar datos para graficar los puntos $(x, y)$ de una recta. El usuario debe introducir los parámetros de la recta (pendiente $m$ y ordenada al origen $b$), así como los valores inicial, final y de tamaño del intervalo para X."
   ]
  },
  {
   "cell_type": "markdown",
   "metadata": {},
   "source": [
    "**Código:**"
   ]
  },
  {
   "cell_type": "code",
   "execution_count": null,
   "metadata": {},
   "outputs": [],
   "source": [
    "print(\"Este programa le brindará los datos necesarios para graficar una función lineal y=mx+b.\")\n",
    "print()\n",
    "\n",
    "m = float(input(\"Ingrese el valor de la pendiente m:\" ))\n",
    "b = float(input(\"Ingrese el valor de la ordenada al origen b:\" ))\n",
    "print()\n",
    "\n",
    "print(\"A continuación, defina el intervalo [x_1,x_2] para el cual quiere obtener los datos para la gráfica:\")\n",
    "x_1 = int(input(\"Introduzca el valor inicial del dominio, x_1:\" ))\n",
    "x_2 = int(input(\"Introduzca el valor final del dominio, x_2:\" ))\n",
    "print()\n",
    "\n",
    "X = range(x_1,x_2+1)\n",
    "print(\"El dominio de su función es el siguiente:\")\n",
    "print(\"X=\",list(X))\n",
    "print()\n",
    "\n",
    "Y = []\n",
    "for x in X:\n",
    "    y = m*x + b\n",
    "    Y.append(y)\n",
    "print(\"El rango Y de su función es el siguiente:\")\n",
    "print(\"Y=\",Y)\n",
    "print()\n",
    "\n",
    "respuesta = True\n",
    "while respuesta == True:\n",
    "    respuesta  = input(\"¿Desea generar un archivo.txt con los datos obtenidos? sí/no:\" )\n",
    "    if respuesta == 'no':\n",
    "        print()\n",
    "        respuesta = input(\"¿Desea obtener la gráfica de su función? sí/no:\" )\n",
    "        if respuesta == 'no':\n",
    "            print(\"Gracias por reproducir este programa.\")\n",
    "            break\n",
    "        else:\n",
    "            plt.plot(X,Y,'.',color=\"navy\")\n",
    "            plt.title(\"$ y=mx+b $\")\n",
    "            plt.xlabel(\"x\")\n",
    "            plt.ylabel(\"y\")\n",
    "            plt.show()\n",
    "            print(\"Gracias por reproducir este programa.\")\n",
    "            break\n",
    "    else:\n",
    "        print()\n",
    "        Dominio = open(\"dominio.txt\",\"w\")\n",
    "        Dominio.writelines(\"%s\\n\" % s for s in list(X))\n",
    "        Dominio.close()\n",
    "        print(\"Se ha generado el archivo dominio.txt correctamente.\")\n",
    "        print()\n",
    "        Rango = open(\"rango.txt\",\"w\")\n",
    "        Rango.writelines(\"%i\\n\" % i for i in list(Y))\n",
    "        Rango.close\n",
    "        print(\"Se ha generado el archivo rango.txt correctamente.\")\n",
    "        print()\n",
    "        respuesta = input(\"¿Desea obtener la gráfica de su función? sí/no:\" )\n",
    "        if respuesta == 'no':\n",
    "            print()\n",
    "            print(\"Gracias por reproducir este programa.\")\n",
    "            break\n",
    "        else:\n",
    "            plt.plot(X,Y,'.',color=\"navy\")\n",
    "            plt.title(\"$ y=mx+b $\")\n",
    "            plt.xlabel(\"x\")\n",
    "            plt.ylabel(\"y\")\n",
    "            plt.show()\n",
    "            print(\"Gracias por reproducir este programa.\")\n",
    "            break"
   ]
  },
  {
   "cell_type": "markdown",
   "metadata": {},
   "source": [
    "**Ejemplo:**"
   ]
  },
  {
   "cell_type": "markdown",
   "metadata": {},
   "source": [
    "Este programa le brindará los datos necesarios para graficar una función lineal y=mx+b. <br>\n",
    "\n",
    "Ingrese el valor de la pendiente m: 7 <br>\n",
    "Ingrese el valor de la ordenada al origen b: 2 <br>\n",
    "\n",
    "A continuación, defina el intervalo [x_1,x_2] para el cual quiere obtener los datos para la gráfica: <br>\n",
    "Introduzca el valor inicial del dominio, x_1: -100 <br>\n",
    "Introduzca el valor final del dominio, x_2: 50 <br>\n",
    "\n",
    "El dominio de su función es el siguiente: <br>\n",
    "X= [-100, -99, -98, -97, -96, -95, -94, -93, -92, -91, -90, -89, -88, -87, -86, -85, -84, -83, -82, -81, -80, -79, -78, -77, -76, -75, -74, -73, -72, -71, -70, -69, -68, -67, -66, -65, -64, -63, -62, -61, -60, -59, -58, -57, -56, -55, -54, -53, -52, -51, -50, -49, -48, -47, -46, -45, -44, -43, -42, -41, -40, -39, -38, -37, -36, -35, -34, -33, -32, -31, -30, -29, -28, -27, -26, -25, -24, -23, -22, -21, -20, -19, -18, -17, -16, -15, -14, -13, -12, -11, -10, -9, -8, -7, -6, -5, -4, -3, -2, -1, 0, 1, 2, 3, 4, 5, 6, 7, 8, 9, 10, 11, 12, 13, 14, 15, 16, 17, 18, 19, 20, 21, 22, 23, 24, 25, 26, 27, 28, 29, 30, 31, 32, 33, 34, 35, 36, 37, 38, 39, 40, 41, 42, 43, 44, 45, 46, 47, 48, 49, 50] <br>\n",
    "\n",
    "El rango Y de su función es el siguiente: <br>\n",
    "Y= [-698.0, -691.0, -684.0, -677.0, -670.0, -663.0, -656.0, -649.0, -642.0, -635.0, -628.0, -621.0, -614.0, -607.0, -600.0, -593.0, -586.0, -579.0, -572.0, -565.0, -558.0, -551.0, -544.0, -537.0, -530.0, -523.0, -516.0, -509.0, -502.0, -495.0, -488.0, -481.0, -474.0, -467.0, -460.0, -453.0, -446.0, -439.0, -432.0, -425.0, -418.0, -411.0, -404.0, -397.0, -390.0, -383.0, -376.0, -369.0, -362.0, -355.0, -348.0, -341.0, -334.0, -327.0, -320.0, -313.0, -306.0, -299.0, -292.0, -285.0, -278.0, -271.0, -264.0, -257.0, -250.0, -243.0, -236.0, -229.0, -222.0, -215.0, -208.0, -201.0, -194.0, -187.0, -180.0, -173.0, -166.0, -159.0, -152.0, -145.0, -138.0, -131.0, -124.0, -117.0, -110.0, -103.0, -96.0, -89.0, -82.0, -75.0, -68.0, -61.0, -54.0, -47.0, -40.0, -33.0, -26.0, -19.0, -12.0, -5.0, 2.0, 9.0, 16.0, 23.0, 30.0, 37.0, 44.0, 51.0, 58.0, 65.0, 72.0, 79.0, 86.0, 93.0, 100.0, 107.0, 114.0, 121.0, 128.0, 135.0, 142.0, 149.0, 156.0, 163.0, 170.0, 177.0, 184.0, 191.0, 198.0, 205.0, 212.0, 219.0, 226.0, 233.0, 240.0, 247.0, 254.0, 261.0, 268.0, 275.0, 282.0, 289.0, 296.0, 303.0, 310.0, 317.0, 324.0, 331.0, 338.0, 345.0, 352.0] <br>\n",
    "\n",
    "¿Desea generar un archivo.txt con los datos obtenidos? sí/no: sí <br>\n",
    "\n",
    "Se ha generado el archivo dominio.txt correctamente. <br>\n",
    "\n",
    "Se ha generado el archivo rango.txt correctamente. <br>\n",
    "\n",
    "¿Desea obtener la gráfica de su función? sí/no: sí <br>\n",
    "\n",
    "*SE MUESTRA LA GRÁFICA DE LA FUNCIÓN* <br>\n",
    "\n",
    "Gracias por reproducir este programa. <br>"
   ]
  },
  {
   "cell_type": "markdown",
   "metadata": {},
   "source": [
    "11. b)"
   ]
  },
  {
   "cell_type": "markdown",
   "metadata": {},
   "source": [
    "12. a)"
   ]
  },
  {
   "cell_type": "markdown",
   "metadata": {},
   "source": [
    "12. b)"
   ]
  },
  {
   "cell_type": "markdown",
   "metadata": {},
   "source": [
    "12. c)"
   ]
  },
  {
   "cell_type": "markdown",
   "metadata": {},
   "source": [
    "---\n",
    "---"
   ]
  },
  {
   "cell_type": "markdown",
   "metadata": {},
   "source": [
    "**Comentarios:**"
   ]
  },
  {
   "cell_type": "markdown",
   "metadata": {},
   "source": [
    "Muchas gracias por los ejercicios a ambos profesores. Disfruté realmente aprender estas nociones básicas de programación. Lamentablemente, ya no me quedó más tiempo para continuar. Claro que despúes terminaré cada uno de los ejercicios cuando ya tenga un poco más de experiencia. <br>\n",
    "Ahora, a planear el proyecto final."
   ]
  }
 ],
 "metadata": {
  "kernelspec": {
   "display_name": "Python 3",
   "language": "python",
   "name": "python3"
  },
  "language_info": {
   "codemirror_mode": {
    "name": "ipython",
    "version": 3
   },
   "file_extension": ".py",
   "mimetype": "text/x-python",
   "name": "python",
   "nbconvert_exporter": "python",
   "pygments_lexer": "ipython3",
   "version": "3.8.3"
  }
 },
 "nbformat": 4,
 "nbformat_minor": 4
}
